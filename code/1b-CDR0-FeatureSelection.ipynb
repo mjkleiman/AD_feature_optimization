{
 "cells": [
  {
   "cell_type": "code",
   "execution_count": 2,
   "metadata": {
    "Collapsed": "false"
   },
   "outputs": [
    {
     "name": "stderr",
     "output_type": "stream",
     "text": [
      "C:\\Users\\mjkle\\anaconda3\\lib\\site-packages\\sklearn\\utils\\deprecation.py:143: FutureWarning: The sklearn.ensemble.forest module is  deprecated in version 0.22 and will be removed in version 0.24. The corresponding classes / functions should instead be imported from sklearn.ensemble. Anything that cannot be imported from sklearn.ensemble is now part of the private API.\n",
      "  warnings.warn(message, FutureWarning)\n"
     ]
    }
   ],
   "source": [
    "import rfpimp\n",
    "from sklearn.model_selection import GridSearchCV, RandomizedSearchCV\n",
    "from sklearn.inspection import permutation_importance\n",
    "\n",
    "import pandas as pd\n",
    "import numpy as np\n",
    "from sklearn.feature_selection import chi2, f_classif # Univariate analyses\n",
    "from sklearn.feature_selection import SelectKBest, SelectPercentile, VarianceThreshold\n",
    "from sklearn.feature_selection import RFE # Recursive feature elimination\n",
    "from sklearn.feature_selection import SelectFwe\n",
    "from sklearn.ensemble import RandomForestClassifier, GradientBoostingClassifier\n",
    "from sklearn.model_selection import cross_val_score, cross_val_predict, StratifiedKFold, train_test_split\n",
    "from sklearn.metrics import confusion_matrix, accuracy_score, roc_auc_score, classification_report, multilabel_confusion_matrix\n",
    "import splitrepeat as sr\n",
    "\n",
    "features=['moca_digits','moca_letters','moca_serial7','MMSPELL_early','MMSPELL_late','ADAS_Q1','moca_orient','ADAS_Q7','ADAS_Q8','ADAS_Q9','MMDATE',\n",
    "       'MMYEAR', 'MMMONTH', 'MMDAY', 'MMSEASON', 'MMHOSPIT', 'MMFLOOR','MMCITY', 'MMAREA', 'MMSTATE','nbspan_forward',\n",
    "       'faq7','faq8','moca_recall','ADAS_Q4','MMBALLDL', 'MMFLAGDL', 'MMTREEDL', 'LDELTOTAL', 'AVRECALL', 'AVDEL30MIN', 'AVDELTOT', 'AVDELERR2',\n",
    "       'faq9','moca_clock','MMDRAW','CLOCKCIRC', 'CLOCKSYM','CLOCKNUM', 'CLOCKHAND', 'CLOCKTIME', 'COPYCIRC', 'COPYSYM',\n",
    "       'COPYNUM', 'COPYHAND', 'COPYTIME', 'tmab_time', 'TRAAERRCOM','TRAAERROM', 'TRABERRCOM', 'TRABERROM','moca_naming','moca_repeat','moca_fluency',\n",
    "       'moca_similarities','ADAS_Q2', 'ADAS_Q5','ADAS_Q10','ADAS_Q11','ADAS_Q12','MMBALL', 'MMFLAG', 'MMTREE',\n",
    "       'MMWATCH', 'MMPENCIL','MMREPEAT','MMREAD', 'MMWRITE', 'CATANIMSC', 'CATVEGESC', 'moca_visuo_exec','ADAS_Q3','ADAS_Q6','ADAS_Q13','MMHAND', 'MMFOLD',\n",
    "       'MMONFLR','nbspan_backward','faq1','faq2','faq3', 'faq4','faq5','faq6','faq10','PXGENAPP', 'PXHEADEY', 'PXNECK', 'PXCHEST',\n",
    "       'PXHEART', 'PXABDOM', 'PXEXTREM', 'PXPERIPH', 'PXSKIN', 'PXMUSCUL', 'e_memory_pt', 'e_lang_pt', 'e_visspat_pt', 'e_plan_pt', 'e_organ_pt',\n",
    "       'e_divatt_pt','e_memory_cg', 'e_lang_cg', 'e_visspat_cg','e_plan_cg', 'e_organ_cg', 'e_divatt_cg']\n",
    "\n",
    "\n",
    "categorical_features = np.in1d(features, ['MMONFLR', 'faq10', 'faq6', 'COPYSYM', 'COPYNUM', 'faq5', 'MMTREE', 'COPYHAND', 'moca_clock', 'MMSEASON', 'moca_letters', \n",
    "                                          'MMBALL', 'faq9', 'MMFLOOR', 'MMDRAW', 'MMMONTH', 'PXGENAPP', 'MMWATCH', 'CLOCKCIRC', 'faq8', 'MMHOSPIT', 'moca_naming', \n",
    "                                          'PXEXTREM', 'CLOCKNUM', 'PXMUSCUL', 'faq1', 'MMTREEDL', 'CLOCKTIME', 'PXABDOM', 'MMFLAG', 'COPYCIRC', 'MMAREA', 'faq3', \n",
    "                                          'moca_digits', 'CLOCKHAND', 'MMREAD', 'MMYEAR', 'MMREPEAT', 'moca_visuo_exec','MMHAND', 'MMBALLDL', 'PXCHEST', 'MMDATE', \n",
    "                                          'MMFLAGDL',  'MMSTATE','moca_repeat', 'MMFOLD', 'MMPENCIL', 'MMDAY',  'faq2', 'PXHEART', 'CLOCKSYM', 'faq4', 'moca_serial7', \n",
    "                                          'faq7', 'MMCITY', 'PXHEADEY', 'COPYTIME', 'PXPERIPH', 'PXSKIN', 'moca_fluency', 'moca_similarities', 'PXNECK', 'MMWRITE',\n",
    "                                          'e_memory_pt', 'e_lang_pt', 'e_visspat_pt', 'e_plan_pt', 'e_organ_pt', 'e_divatt_pt','e_memory_cg', 'e_lang_cg', \n",
    "                                          'e_visspat_cg','e_plan_cg', 'e_organ_cg', 'e_divatt_cg'])\n",
    "data = pd.read_csv('../data/interim/data_adni.csv')\n",
    "X = data[features]\n",
    "y = data['CDGLOBAL']\n",
    "y.replace({0:1,1:0,2:0},inplace=True)"
   ]
  },
  {
   "cell_type": "code",
   "execution_count": 3,
   "metadata": {
    "Collapsed": "false"
   },
   "outputs": [],
   "source": [
    "X, X_test, y, y_test = train_test_split(X, y, train_size=0.25, random_state=33433, stratify=y)\n",
    "X_train, X_valid, y_train, y_valid = train_test_split(X, y, test_size=0.25, random_state=33433, stratify=y)     "
   ]
  },
  {
   "cell_type": "markdown",
   "metadata": {
    "Collapsed": "false"
   },
   "source": [
    "# All - Feature Selection"
   ]
  },
  {
   "cell_type": "code",
   "execution_count": 4,
   "metadata": {
    "Collapsed": "false"
   },
   "outputs": [
    {
     "data": {
      "text/plain": [
       "RandomForestClassifier(bootstrap=False, max_depth=70, max_features=0.2,\n",
       "                       n_estimators=1500, random_state=33433)"
      ]
     },
     "execution_count": 4,
     "metadata": {},
     "output_type": "execute_result"
    }
   ],
   "source": [
    "from sklearn.ensemble import GradientBoostingClassifier \n",
    "rf = RandomForestClassifier(n_estimators=1500, max_features=.2, max_depth = 70, min_samples_split = 2, min_samples_leaf = 1, bootstrap=False, random_state=33433)\n",
    "rf.fit(X_train, y_train)"
   ]
  },
  {
   "cell_type": "markdown",
   "metadata": {
    "Collapsed": "false"
   },
   "source": [
    "## BorutaSHAP"
   ]
  },
  {
   "cell_type": "code",
   "execution_count": 5,
   "metadata": {
    "Collapsed": "false"
   },
   "outputs": [],
   "source": [
    "from BorutaShap import BorutaShap\n",
    "\n",
    "bshap = BorutaShap(model=rf, importance_measure='shap', classification=True)"
   ]
  },
  {
   "cell_type": "code",
   "execution_count": 6,
   "metadata": {
    "Collapsed": "false"
   },
   "outputs": [
    {
     "name": "stderr",
     "output_type": "stream",
     "text": [
      "100%|██████████████████████████████████████| 200/200 [3:14:52<00:00, 58.46s/it]"
     ]
    },
    {
     "name": "stdout",
     "output_type": "stream",
     "text": [
      "22 attributes confirmed important: ['faq1', 'faq10', 'e_organ_cg', 'CATVEGESC', 'tmab_time', 'faq2', 'e_lang_cg', 'AVDEL30MIN', 'e_memory_pt', 'ADAS_Q4', 'LDELTOTAL', 'e_memory_cg', 'CATANIMSC', 'ADAS_Q1', 'e_lang_pt', 'e_plan_cg', 'e_divatt_cg', 'moca_recall', 'nbspan_forward', 'AVDELTOT', 'faq9', 'MMTREEDL']\n",
      "83 attributes confirmed unimportant: ['MMBALL', 'CLOCKTIME', 'MMSEASON', 'moca_similarities', 'ADAS_Q12', 'MMDATE', 'ADAS_Q10', 'PXPERIPH', 'moca_clock', 'MMREPEAT', 'MMBALLDL', 'TRABERROM', 'MMFLOOR', 'e_divatt_pt', 'moca_visuo_exec', 'TRAAERRCOM', 'moca_fluency', 'COPYSYM', 'PXHEART', 'moca_serial7', 'TRABERRCOM', 'moca_naming', 'moca_repeat', 'faq7', 'AVDELERR2', 'MMPENCIL', 'ADAS_Q11', 'MMREAD', 'MMHAND', 'MMFLAG', 'nbspan_backward', 'MMSPELL_early', 'MMONFLR', 'MMDAY', 'CLOCKHAND', 'ADAS_Q3', 'CLOCKCIRC', 'e_visspat_pt', 'moca_digits', 'moca_letters', 'CLOCKNUM', 'MMYEAR', 'MMAREA', 'PXEXTREM', 'COPYNUM', 'MMMONTH', 'CLOCKSYM', 'MMWRITE', 'faq4', 'PXHEADEY', 'PXNECK', 'ADAS_Q6', 'ADAS_Q5', 'COPYTIME', 'faq3', 'e_plan_pt', 'MMFLAGDL', 'e_visspat_cg', 'PXMUSCUL', 'PXCHEST', 'PXGENAPP', 'ADAS_Q2', 'faq8', 'COPYCIRC', 'faq6', 'ADAS_Q8', 'PXSKIN', 'ADAS_Q9', 'MMTREE', 'moca_orient', 'MMFOLD', 'e_organ_pt', 'COPYHAND', 'MMWATCH', 'faq5', 'MMHOSPIT', 'MMDRAW', 'MMSPELL_late', 'MMSTATE', 'ADAS_Q7', 'MMCITY', 'PXABDOM', 'TRAAERROM']\n",
      "2 tentative attributes remains: ['AVRECALL', 'ADAS_Q13']\n"
     ]
    },
    {
     "name": "stderr",
     "output_type": "stream",
     "text": [
      "\n"
     ]
    }
   ],
   "source": [
    "bshap.fit(X, y, random_state=33433, n_trials=200)"
   ]
  },
  {
   "cell_type": "code",
   "execution_count": 8,
   "metadata": {
    "Collapsed": "false"
   },
   "outputs": [
    {
     "name": "stderr",
     "output_type": "stream",
     "text": [
      "100%|██████████████████████████████████████████| 20/20 [18:36<00:00, 55.83s/it]"
     ]
    },
    {
     "name": "stdout",
     "output_type": "stream",
     "text": [
      "17 attributes confirmed important: ['ADAS_Q4', 'e_organ_cg', 'e_memory_cg', 'ADAS_Q1', 'e_plan_cg', 'tmab_time', 'AVDEL30MIN', 'faq1', 'faq10', 'moca_recall', 'faq2', 'LDELTOTAL', 'e_lang_pt', 'e_memory_pt', 'faq9', 'e_lang_cg', 'e_divatt_cg']\n",
      "79 attributes confirmed unimportant: ['PXCHEST', 'COPYHAND', 'ADAS_Q12', 'moca_clock', 'PXHEADEY', 'MMDATE', 'e_plan_pt', 'moca_naming', 'ADAS_Q11', 'CLOCKCIRC', 'ADAS_Q8', 'e_visspat_pt', 'CLOCKTIME', 'CLOCKSYM', 'ADAS_Q2', 'MMSPELL_late', 'PXEXTREM', 'TRAAERROM', 'MMCITY', 'faq3', 'MMYEAR', 'MMMONTH', 'MMDRAW', 'MMSEASON', 'MMFLAG', 'PXMUSCUL', 'PXPERIPH', 'faq4', 'MMDAY', 'MMONFLR', 'moca_letters', 'MMREAD', 'MMSPELL_early', 'ADAS_Q6', 'moca_orient', 'MMAREA', 'MMWATCH', 'MMFLOOR', 'TRAAERRCOM', 'PXHEART', 'PXNECK', 'moca_visuo_exec', 'COPYSYM', 'faq6', 'e_organ_pt', 'moca_digits', 'ADAS_Q9', 'moca_similarities', 'moca_repeat', 'MMSTATE', 'CLOCKHAND', 'TRABERRCOM', 'COPYNUM', 'COPYTIME', 'PXABDOM', 'ADAS_Q5', 'MMFLAGDL', 'AVDELERR2', 'faq5', 'PXGENAPP', 'CLOCKNUM', 'nbspan_backward', 'MMHAND', 'MMFOLD', 'ADAS_Q10', 'MMBALLDL', 'ADAS_Q7', 'faq8', 'COPYCIRC', 'MMTREE', 'PXSKIN', 'MMREPEAT', 'moca_fluency', 'ADAS_Q3', 'MMWRITE', 'MMBALL', 'moca_serial7', 'TRABERROM', 'MMPENCIL']\n",
      "11 tentative attributes remains: ['ADAS_Q13', 'faq7', 'CATANIMSC', 'AVDELTOT', 'e_divatt_pt', 'MMHOSPIT', 'CATVEGESC', 'MMTREEDL', 'nbspan_forward', 'e_visspat_cg', 'AVRECALL']\n"
     ]
    },
    {
     "name": "stderr",
     "output_type": "stream",
     "text": [
      "\n"
     ]
    }
   ],
   "source": [
    "bshap.fit(X, y)"
   ]
  },
  {
   "cell_type": "code",
   "execution_count": 9,
   "metadata": {
    "Collapsed": "false"
   },
   "outputs": [
    {
     "data": {
      "image/png": "[encoded data removed]",
      "text/plain": [
       "<Figure size 864x576 with 1 Axes>"
      ]
     },
     "metadata": {
      "needs_background": "light"
     },
     "output_type": "display_data"
    }
   ],
   "source": [
    "bshap.plot(which_features='accepted')"
   ]
  },
  {
   "cell_type": "markdown",
   "metadata": {
    "Collapsed": "false"
   },
   "source": [
    "## Boruta FS"
   ]
  },
  {
   "cell_type": "code",
   "execution_count": 10,
   "metadata": {
    "Collapsed": "false",
    "scrolled": true
   },
   "outputs": [
    {
     "name": "stdout",
     "output_type": "stream",
     "text": [
      "['ADAS_Q1', 'ADAS_Q4', 'LDELTOTAL', 'AVDEL30MIN', 'tmab_time', 'e_memory_cg', 'e_lang_cg', 'e_divatt_cg']\n",
      "['CATANIMSC']\n"
     ]
    }
   ],
   "source": [
    "from boruta import BorutaPy\n",
    "\n",
    "\n",
    "bp = BorutaPy(rf, n_estimators='auto', random_state=33433, verbose=0)\n",
    "bp.fit(X.values, y)\n",
    "\n",
    "features_ = list(np.array(features)[bp.support_])\n",
    "features_weak = list(np.array(features)[bp.support_weak_])\n",
    "\n",
    "print(features_)\n",
    "print(features_weak)"
   ]
  },
  {
   "cell_type": "code",
   "execution_count": 11,
   "metadata": {
    "Collapsed": "false",
    "scrolled": true
   },
   "outputs": [
    {
     "name": "stdout",
     "output_type": "stream",
     "text": [
      "['ADAS_Q1', 'ADAS_Q8', 'MMHOSPIT', 'moca_recall', 'ADAS_Q4', 'LDELTOTAL', 'AVDEL30MIN', 'AVDELTOT', 'faq9', 'tmab_time', 'CATANIMSC', 'CATVEGESC', 'faq2', 'e_memory_pt', 'e_memory_cg', 'e_lang_cg', 'e_plan_cg', 'e_divatt_cg']\n",
      "[]\n"
     ]
    }
   ],
   "source": [
    "from boruta import BorutaPy\n",
    "\n",
    "bp = BorutaPy(rf, n_estimators='auto', random_state=33433, verbose=0, perc=85)\n",
    "bp.fit(X.values, y)\n",
    "\n",
    "features_ = list(np.array(features)[bp.support_])\n",
    "features_weak = list(np.array(features)[bp.support_weak_])\n",
    "\n",
    "print(features_)\n",
    "print(features_weak)"
   ]
  },
  {
   "cell_type": "code",
   "execution_count": 12,
   "metadata": {
    "Collapsed": "false",
    "scrolled": true
   },
   "outputs": [
    {
     "name": "stdout",
     "output_type": "stream",
     "text": [
      "['ADAS_Q1', 'ADAS_Q8', 'MMHOSPIT', 'nbspan_forward', 'moca_recall', 'ADAS_Q4', 'LDELTOTAL', 'AVRECALL', 'AVDEL30MIN', 'AVDELTOT', 'AVDELERR2', 'faq9', 'tmab_time', 'MMREPEAT', 'MMREAD', 'CATANIMSC', 'CATVEGESC', 'ADAS_Q13', 'faq2', 'e_memory_pt', 'e_lang_pt', 'e_divatt_pt', 'e_memory_cg', 'e_lang_cg', 'e_plan_cg', 'e_organ_cg', 'e_divatt_cg']\n",
      "[]\n"
     ]
    }
   ],
   "source": [
    "from boruta import BorutaPy\n",
    "\n",
    "bp = BorutaPy(rf, n_estimators='auto', random_state=33433, verbose=0, perc=70)\n",
    "bp.fit(X.values, y)\n",
    "\n",
    "features_ = list(np.array(features)[bp.support_])\n",
    "features_weak = list(np.array(features)[bp.support_weak_])\n",
    "\n",
    "print(features_)\n",
    "print(features_weak)"
   ]
  },
  {
   "cell_type": "markdown",
   "metadata": {
    "Collapsed": "false"
   },
   "source": [
    "## RFE"
   ]
  },
  {
   "cell_type": "code",
   "execution_count": 13,
   "metadata": {
    "Collapsed": "false"
   },
   "outputs": [
    {
     "name": "stdout",
     "output_type": "stream",
     "text": [
      "Fitting estimator with 107 features.\n",
      "Fitting estimator with 106 features.\n",
      "Fitting estimator with 105 features.\n",
      "Fitting estimator with 104 features.\n",
      "Fitting estimator with 103 features.\n",
      "Fitting estimator with 102 features.\n",
      "Fitting estimator with 101 features.\n",
      "Fitting estimator with 100 features.\n",
      "Fitting estimator with 99 features.\n",
      "Fitting estimator with 98 features.\n",
      "Fitting estimator with 97 features.\n",
      "Fitting estimator with 96 features.\n",
      "Fitting estimator with 95 features.\n",
      "Fitting estimator with 94 features.\n",
      "Fitting estimator with 93 features.\n",
      "Fitting estimator with 92 features.\n",
      "Fitting estimator with 91 features.\n",
      "Fitting estimator with 90 features.\n",
      "Fitting estimator with 89 features.\n",
      "Fitting estimator with 88 features.\n",
      "Fitting estimator with 87 features.\n",
      "Fitting estimator with 86 features.\n",
      "Fitting estimator with 85 features.\n",
      "Fitting estimator with 84 features.\n",
      "Fitting estimator with 83 features.\n",
      "Fitting estimator with 82 features.\n",
      "Fitting estimator with 81 features.\n",
      "Fitting estimator with 80 features.\n",
      "Fitting estimator with 79 features.\n",
      "Fitting estimator with 78 features.\n",
      "Fitting estimator with 77 features.\n",
      "Fitting estimator with 76 features.\n",
      "Fitting estimator with 75 features.\n",
      "Fitting estimator with 74 features.\n",
      "Fitting estimator with 73 features.\n",
      "Fitting estimator with 72 features.\n",
      "Fitting estimator with 71 features.\n",
      "Fitting estimator with 70 features.\n",
      "Fitting estimator with 69 features.\n",
      "Fitting estimator with 68 features.\n",
      "Fitting estimator with 67 features.\n",
      "Fitting estimator with 66 features.\n",
      "Fitting estimator with 65 features.\n",
      "Fitting estimator with 64 features.\n",
      "Fitting estimator with 63 features.\n",
      "Fitting estimator with 62 features.\n",
      "Fitting estimator with 61 features.\n",
      "Fitting estimator with 60 features.\n",
      "Fitting estimator with 59 features.\n",
      "Fitting estimator with 58 features.\n",
      "Fitting estimator with 57 features.\n",
      "Fitting estimator with 56 features.\n",
      "Fitting estimator with 55 features.\n",
      "Fitting estimator with 54 features.\n",
      "Fitting estimator with 53 features.\n",
      "Fitting estimator with 52 features.\n",
      "Fitting estimator with 51 features.\n",
      "Fitting estimator with 50 features.\n",
      "Fitting estimator with 49 features.\n",
      "Fitting estimator with 48 features.\n",
      "Fitting estimator with 47 features.\n",
      "Fitting estimator with 46 features.\n",
      "Fitting estimator with 45 features.\n",
      "Fitting estimator with 44 features.\n",
      "Fitting estimator with 43 features.\n",
      "Fitting estimator with 42 features.\n",
      "Fitting estimator with 41 features.\n",
      "Fitting estimator with 40 features.\n",
      "Fitting estimator with 39 features.\n",
      "Fitting estimator with 38 features.\n",
      "Fitting estimator with 37 features.\n",
      "Fitting estimator with 36 features.\n",
      "Fitting estimator with 35 features.\n",
      "Fitting estimator with 34 features.\n",
      "Fitting estimator with 33 features.\n",
      "Fitting estimator with 32 features.\n",
      "Fitting estimator with 31 features.\n",
      "Fitting estimator with 30 features.\n",
      "Fitting estimator with 29 features.\n",
      "Fitting estimator with 28 features.\n",
      "Fitting estimator with 27 features.\n",
      "Fitting estimator with 26 features.\n",
      "Fitting estimator with 25 features.\n",
      "Fitting estimator with 24 features.\n",
      "Fitting estimator with 23 features.\n",
      "Fitting estimator with 22 features.\n",
      "Fitting estimator with 21 features.\n",
      "Fitting estimator with 20 features.\n",
      "Fitting estimator with 19 features.\n",
      "Fitting estimator with 18 features.\n",
      "Fitting estimator with 17 features.\n",
      "Fitting estimator with 16 features.\n",
      "['ADAS_Q1', 'ADAS_Q8', 'moca_recall', 'ADAS_Q4', 'LDELTOTAL', 'AVRECALL', 'AVDEL30MIN', 'AVDELTOT', 'tmab_time', 'CATANIMSC', 'faq2', 'e_memory_pt', 'e_memory_cg', 'e_lang_cg', 'e_divatt_cg']\n"
     ]
    }
   ],
   "source": [
    "selector = RFE(rf, n_features_to_select=15, step=1, verbose=1)\n",
    "selector = selector.fit(X, y)\n",
    "features_ = list(np.array(features)[selector.support_])\n",
    "print(features_)"
   ]
  },
  {
   "cell_type": "code",
   "execution_count": null,
   "metadata": {
    "Collapsed": "false"
   },
   "outputs": [],
   "source": []
  }
 ],
 "metadata": {
  "kernelspec": {
   "display_name": "Python 3",
   "language": "python",
   "name": "python3"
  },
  "language_info": {
   "codemirror_mode": {
    "name": "ipython",
    "version": 3
   },
   "file_extension": ".py",
   "mimetype": "text/x-python",
   "name": "python",
   "nbconvert_exporter": "python",
   "pygments_lexer": "ipython3",
   "version": "3.7.3"
  }
 },
 "nbformat": 4,
 "nbformat_minor": 4
}
