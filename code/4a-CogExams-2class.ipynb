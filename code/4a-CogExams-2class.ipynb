{
 "cells": [
  {
   "cell_type": "code",
   "execution_count": 1,
   "metadata": {
    "Collapsed": "false"
   },
   "outputs": [
    {
     "name": "stderr",
     "output_type": "stream",
     "text": [
      "Using TensorFlow backend.\n"
     ]
    }
   ],
   "source": [
    "from warnings import simplefilter\n",
    "simplefilter(action='ignore', category=FutureWarning)\n",
    "import pandas as pd\n",
    "import numpy as np\n",
    "from sklearn.ensemble import RandomForestClassifier\n",
    "from sklearn.model_selection import cross_val_score, cross_val_predict, StratifiedKFold, train_test_split\n",
    "from sklearn.metrics import confusion_matrix, accuracy_score, roc_auc_score, classification_report, multilabel_confusion_matrix\n",
    "import tensorflow as tf\n",
    "import datetime, os\n",
    "from tensorflow.keras.layers import Input, Dense, Activation, Dropout, Flatten, concatenate\n",
    "from tensorflow.keras.models import Model, Sequential\n",
    "from tensorflow.keras.callbacks import ModelCheckpoint\n",
    "from tensorflow.keras.utils import plot_model\n",
    "from tensorflow.keras.optimizers import SGD\n",
    "from tensorflow.keras.constraints import MaxNorm\n",
    "from sklearn.model_selection import GridSearchCV\n",
    "from splitrepeat import splitrepeat_cv\n",
    "\n",
    "features=['moca_digits','moca_letters','moca_serial7','MMSPELL_early','MMSPELL_late','ADAS_Q1','moca_orient','ADAS_Q7','ADAS_Q8','ADAS_Q9','MMDATE',\n",
    "       'MMYEAR', 'MMMONTH', 'MMDAY', 'MMSEASON', 'MMHOSPIT', 'MMFLOOR','MMCITY', 'MMAREA', 'MMSTATE','nbspan_forward',\n",
    "       'faq7','faq8','moca_recall','ADAS_Q4','MMBALLDL', 'MMFLAGDL', 'MMTREEDL', 'LDELTOTAL', 'AVRECALL', 'AVDEL30MIN', 'AVDELTOT', 'AVDELERR2',\n",
    "       'faq9','moca_clock','MMDRAW','CLOCKCIRC', 'CLOCKSYM','CLOCKNUM', 'CLOCKHAND', 'CLOCKTIME', 'COPYCIRC', 'COPYSYM',\n",
    "       'COPYNUM', 'COPYHAND', 'COPYTIME', 'tmab_time', 'TRAAERRCOM','TRAAERROM', 'TRABERRCOM', 'TRABERROM','moca_naming','moca_repeat','moca_fluency',\n",
    "       'moca_similarities','ADAS_Q2', 'ADAS_Q5','ADAS_Q10','ADAS_Q11','ADAS_Q12','MMBALL', 'MMFLAG', 'MMTREE',\n",
    "       'MMWATCH', 'MMPENCIL','MMREPEAT','MMREAD', 'MMWRITE', 'CATANIMSC', 'CATVEGESC', 'moca_visuo_exec','ADAS_Q3','ADAS_Q6','ADAS_Q13','MMHAND', 'MMFOLD',\n",
    "       'MMONFLR','nbspan_backward','faq1','faq2','faq3', 'faq4','faq5','faq6','faq10','PXGENAPP', 'PXHEADEY', 'PXNECK', 'PXCHEST',\n",
    "       'PXHEART', 'PXABDOM', 'PXEXTREM', 'PXPERIPH', 'PXSKIN', 'PXMUSCUL', 'e_memory_pt', 'e_lang_pt', 'e_visspat_pt', 'e_plan_pt', 'e_organ_pt',\n",
    "       'e_divatt_pt','e_memory_cg', 'e_lang_cg', 'e_visspat_cg','e_plan_cg', 'e_organ_cg', 'e_divatt_cg']\n",
    "\n",
    "\n",
    "categorical_features = np.in1d(features, ['MMONFLR', 'faq10', 'faq6', 'COPYSYM', 'COPYNUM', 'faq5', 'MMTREE', 'COPYHAND', 'moca_clock', 'MMSEASON', 'moca_letters', \n",
    "                                          'MMBALL', 'faq9', 'MMFLOOR', 'MMDRAW', 'MMMONTH', 'PXGENAPP', 'MMWATCH', 'CLOCKCIRC', 'faq8', 'MMHOSPIT', 'moca_naming', \n",
    "                                          'PXEXTREM', 'CLOCKNUM', 'PXMUSCUL', 'faq1', 'MMTREEDL', 'CLOCKTIME', 'PXABDOM', 'MMFLAG', 'COPYCIRC', 'MMAREA', 'faq3', \n",
    "                                          'moca_digits', 'CLOCKHAND', 'MMREAD', 'MMYEAR', 'MMREPEAT', 'moca_visuo_exec','MMHAND', 'MMBALLDL', 'PXCHEST', 'MMDATE', \n",
    "                                          'MMFLAGDL',  'MMSTATE','moca_repeat', 'MMFOLD', 'MMPENCIL', 'MMDAY',  'faq2', 'PXHEART', 'CLOCKSYM', 'faq4', 'moca_serial7', \n",
    "                                          'faq7', 'MMCITY', 'PXHEADEY', 'COPYTIME', 'PXPERIPH', 'PXSKIN', 'moca_fluency', 'moca_similarities', 'PXNECK', 'MMWRITE',\n",
    "                                          'e_memory_pt', 'e_lang_pt', 'e_visspat_pt', 'e_plan_pt', 'e_organ_pt', 'e_divatt_pt','e_memory_cg', 'e_lang_cg', \n",
    "                                          'e_visspat_cg','e_plan_cg', 'e_organ_cg', 'e_divatt_cg'])\n",
    "\n",
    "\n",
    "data = pd.read_csv('../data/processed/data_adni.csv')"
   ]
  },
  {
   "cell_type": "markdown",
   "metadata": {
    "Collapsed": "false"
   },
   "source": [
    "# CDR - detect DX"
   ]
  },
  {
   "cell_type": "code",
   "execution_count": 2,
   "metadata": {
    "Collapsed": "false"
   },
   "outputs": [],
   "source": [
    "features = ['CDSOURCE', 'CDVERSION', 'CDMEMORY',\n",
    "       'CDORIENT', 'CDJUDGE', 'CDCOMMUN', 'CDHOME', 'CDCARE']\n",
    "\n",
    "X = data[features]\n",
    "y = data['DX']\n",
    "y.replace({2:1},inplace=True)"
   ]
  },
  {
   "cell_type": "code",
   "execution_count": 12,
   "metadata": {
    "Collapsed": "false"
   },
   "outputs": [
    {
     "name": "stdout",
     "output_type": "stream",
     "text": [
      "Fitting 3 folds for each of 400 candidates, totalling 1200 fits\n"
     ]
    },
    {
     "name": "stderr",
     "output_type": "stream",
     "text": [
      "[Parallel(n_jobs=-1)]: Using backend LokyBackend with 8 concurrent workers.\n",
      "[Parallel(n_jobs=-1)]: Done  25 tasks      | elapsed:    9.3s\n",
      "[Parallel(n_jobs=-1)]: Done 146 tasks      | elapsed:   41.7s\n",
      "[Parallel(n_jobs=-1)]: Done 349 tasks      | elapsed:  1.5min\n",
      "[Parallel(n_jobs=-1)]: Done 632 tasks      | elapsed:  2.6min\n",
      "[Parallel(n_jobs=-1)]: Done 997 tasks      | elapsed:  4.0min\n",
      "[Parallel(n_jobs=-1)]: Done 1200 out of 1200 | elapsed:  4.8min finished\n"
     ]
    },
    {
     "data": {
      "text/plain": [
       "{'n_estimators': 1200,\n",
       " 'min_samples_split': 5,\n",
       " 'min_samples_leaf': 2,\n",
       " 'max_features': 'log2',\n",
       " 'max_depth': 60,\n",
       " 'bootstrap': True}"
      ]
     },
     "execution_count": 12,
     "metadata": {},
     "output_type": "execute_result"
    }
   ],
   "source": [
    "from sklearn.ensemble import RandomForestClassifier\n",
    "from sklearn.model_selection import RandomizedSearchCV\n",
    "from sklearn.model_selection import GridSearchCV\n",
    "\n",
    "X, X_test, y, y_test = train_test_split(X, y, train_size=0.25, random_state=33433, stratify=y)\n",
    "X_train, X_valid, y_train, y_valid = train_test_split(X, y, test_size=0.25, random_state=33433, stratify=y)    \n",
    "rf = RandomForestClassifier(n_estimators=100, max_features=.5, random_state=0)\n",
    "\n",
    "# Search parameters\n",
    "n_estimators = [int(x) for x in np.linspace(start = 200, stop = 2000, num = 10)]\n",
    "max_features = ['sqrt', 'log2', .3, .5, .7, .9]\n",
    "max_depth = [int(x) for x in np.linspace(10, 110, num = 11)]\n",
    "max_depth.append(None)\n",
    "min_samples_split = [2, 5, 10]\n",
    "min_samples_leaf = [1, 2, 4]\n",
    "bootstrap = [True, False]\n",
    "\n",
    "search_params = {'n_estimators': n_estimators,\n",
    "               'max_features': max_features,\n",
    "               'max_depth': max_depth,\n",
    "               'min_samples_split': min_samples_split,\n",
    "               'min_samples_leaf': min_samples_leaf,\n",
    "               'bootstrap': bootstrap}\n",
    "rf_search_rand = RandomizedSearchCV(rf, search_params, n_iter=400,cv=3,verbose=2,random_state=33433, n_jobs=-1)\n",
    "rf_search_rand.fit(X_train, y_train)\n",
    "rf_search_rand.best_params_"
   ]
  },
  {
   "cell_type": "code",
   "execution_count": 13,
   "metadata": {
    "Collapsed": "false"
   },
   "outputs": [
    {
     "name": "stdout",
     "output_type": "stream",
     "text": [
      "Fitting 3 folds for each of 486 candidates, totalling 1458 fits\n"
     ]
    },
    {
     "name": "stderr",
     "output_type": "stream",
     "text": [
      "[Parallel(n_jobs=-1)]: Using backend LokyBackend with 8 concurrent workers.\n",
      "[Parallel(n_jobs=-1)]: Done  25 tasks      | elapsed:    6.9s\n",
      "[Parallel(n_jobs=-1)]: Done 146 tasks      | elapsed:   33.9s\n",
      "[Parallel(n_jobs=-1)]: Done 349 tasks      | elapsed:  1.4min\n",
      "[Parallel(n_jobs=-1)]: Done 632 tasks      | elapsed:  2.4min\n",
      "[Parallel(n_jobs=-1)]: Done 997 tasks      | elapsed:  4.2min\n",
      "[Parallel(n_jobs=-1)]: Done 1442 tasks      | elapsed:  6.5min\n",
      "[Parallel(n_jobs=-1)]: Done 1458 out of 1458 | elapsed:  6.6min finished\n"
     ]
    },
    {
     "data": {
      "text/plain": [
       "{'bootstrap': False,\n",
       " 'max_depth': 50,\n",
       " 'max_features': 0.2,\n",
       " 'min_samples_leaf': 1,\n",
       " 'min_samples_split': 4,\n",
       " 'n_estimators': 1100}"
      ]
     },
     "execution_count": 13,
     "metadata": {},
     "output_type": "execute_result"
    }
   ],
   "source": [
    "search_params = {'n_estimators': [1100, 1200, 1300],\n",
    "               'max_features': [.2, 'sqrt', 'log2'],\n",
    "               'max_depth': [50, 60, 70],\n",
    "               'min_samples_split': [4, 5, 6],\n",
    "               'min_samples_leaf': [1, 2, 3],\n",
    "               'bootstrap': [False, True]}\n",
    "\n",
    "rf_search_grid = GridSearchCV(rf, search_params, \n",
    "                          cv = 3, n_jobs = -1, verbose = 2)\n",
    "rf_search_grid.fit(X_train, y_train)\n",
    "rf_search_grid.best_params_"
   ]
  },
  {
   "cell_type": "markdown",
   "metadata": {
    "Collapsed": "false"
   },
   "source": [
    "## best = RandomForestClassifier(n_estimators=1100, max_features=.2, max_depth = 50, min_samples_split = 4, min_samples_leaf = 1, bootstrap=False, random_state=33433)\n",
    "df = splitrepeat_cv(X,y,best,splits=list(int(x)*42+42 for x in range(20)),repeats=list(int(x)*42+42 for x in range(20)))\n",
    "display(df.describe())\n",
    "\n",
    "### Save outputs ###\n",
    "q = 'CExam_2class_CDR_400'\n",
    "\n",
    "df['set'] = q\n",
    "df.to_csv(('../models/outputs/' + q + '.csv'), index=False)"
   ]
  },
  {
   "cell_type": "markdown",
   "metadata": {
    "Collapsed": "false"
   },
   "source": [
    "# MMSE - detect CDR"
   ]
  },
  {
   "cell_type": "code",
   "execution_count": 5,
   "metadata": {
    "Collapsed": "false"
   },
   "outputs": [],
   "source": [
    "features = ['MMDATE', 'MMYEAR', 'MMMONTH',\n",
    "       'MMDAY', 'MMSEASON', 'MMHOSPIT', 'MMFLOOR', 'MMCITY', 'MMAREA',\n",
    "       'MMSTATE', 'MMBALL', 'MMFLAG', 'MMTREE', 'MMBALLDL', 'MMFLAGDL',\n",
    "       'MMTREEDL', 'MMWATCH', 'MMPENCIL', 'MMREPEAT', 'MMHAND', 'MMFOLD',\n",
    "       'MMONFLR', 'MMREAD', 'MMWRITE', 'MMDRAW','MMSPELL_early', 'MMSPELL_late']\n",
    "\n",
    "X = data[features]\n",
    "y = data['CDGLOBAL']\n",
    "y.replace({2:1},inplace=True)"
   ]
  },
  {
   "cell_type": "code",
   "execution_count": 16,
   "metadata": {
    "Collapsed": "false"
   },
   "outputs": [
    {
     "name": "stdout",
     "output_type": "stream",
     "text": [
      "Fitting 3 folds for each of 400 candidates, totalling 1200 fits\n"
     ]
    },
    {
     "name": "stderr",
     "output_type": "stream",
     "text": [
      "[Parallel(n_jobs=-1)]: Using backend LokyBackend with 8 concurrent workers.\n",
      "[Parallel(n_jobs=-1)]: Done  25 tasks      | elapsed:    8.4s\n",
      "[Parallel(n_jobs=-1)]: Done 146 tasks      | elapsed:   46.9s\n",
      "[Parallel(n_jobs=-1)]: Done 349 tasks      | elapsed:  1.7min\n",
      "[Parallel(n_jobs=-1)]: Done 632 tasks      | elapsed:  3.1min\n",
      "[Parallel(n_jobs=-1)]: Done 997 tasks      | elapsed:  4.8min\n",
      "[Parallel(n_jobs=-1)]: Done 1200 out of 1200 | elapsed:  5.7min finished\n"
     ]
    },
    {
     "data": {
      "text/plain": [
       "{'n_estimators': 400,\n",
       " 'min_samples_split': 10,\n",
       " 'min_samples_leaf': 4,\n",
       " 'max_features': 'sqrt',\n",
       " 'max_depth': 40,\n",
       " 'bootstrap': False}"
      ]
     },
     "execution_count": 16,
     "metadata": {},
     "output_type": "execute_result"
    }
   ],
   "source": [
    "from sklearn.ensemble import RandomForestClassifier\n",
    "from sklearn.model_selection import RandomizedSearchCV\n",
    "from sklearn.model_selection import GridSearchCV\n",
    "\n",
    "X, X_test, y, y_test = train_test_split(X, y, train_size=0.25, random_state=33433, stratify=y)\n",
    "X_train, X_valid, y_train, y_valid = train_test_split(X, y, test_size=0.25, random_state=33433, stratify=y)    \n",
    "rf = RandomForestClassifier(n_estimators=100, max_features=.5, random_state=0)\n",
    "\n",
    "# Search parameters\n",
    "n_estimators = [int(x) for x in np.linspace(start = 200, stop = 2000, num = 10)]\n",
    "max_features = ['sqrt', 'log2', .3, .5, .7, .9]\n",
    "max_depth = [int(x) for x in np.linspace(10, 110, num = 11)]\n",
    "max_depth.append(None)\n",
    "min_samples_split = [2, 5, 10]\n",
    "min_samples_leaf = [1, 2, 4]\n",
    "bootstrap = [True, False]\n",
    "\n",
    "search_params = {'n_estimators': n_estimators,\n",
    "               'max_features': max_features,\n",
    "               'max_depth': max_depth,\n",
    "               'min_samples_split': min_samples_split,\n",
    "               'min_samples_leaf': min_samples_leaf,\n",
    "               'bootstrap': bootstrap}\n",
    "rf_search_rand = RandomizedSearchCV(rf, search_params, n_iter=400,cv=3,verbose=2,random_state=33433, n_jobs=-1)\n",
    "rf_search_rand.fit(X_train, y_train)\n",
    "rf_search_rand.best_params_"
   ]
  },
  {
   "cell_type": "code",
   "execution_count": 17,
   "metadata": {
    "Collapsed": "false"
   },
   "outputs": [
    {
     "name": "stdout",
     "output_type": "stream",
     "text": [
      "Fitting 3 folds for each of 486 candidates, totalling 1458 fits\n"
     ]
    },
    {
     "name": "stderr",
     "output_type": "stream",
     "text": [
      "[Parallel(n_jobs=-1)]: Using backend LokyBackend with 8 concurrent workers.\n",
      "[Parallel(n_jobs=-1)]: Done  25 tasks      | elapsed:    2.3s\n",
      "[Parallel(n_jobs=-1)]: Done 146 tasks      | elapsed:   13.1s\n",
      "[Parallel(n_jobs=-1)]: Done 349 tasks      | elapsed:   31.0s\n",
      "[Parallel(n_jobs=-1)]: Done 632 tasks      | elapsed:   54.9s\n",
      "[Parallel(n_jobs=-1)]: Done 997 tasks      | elapsed:  1.6min\n",
      "[Parallel(n_jobs=-1)]: Done 1442 tasks      | elapsed:  2.4min\n",
      "[Parallel(n_jobs=-1)]: Done 1458 out of 1458 | elapsed:  2.4min finished\n"
     ]
    },
    {
     "data": {
      "text/plain": [
       "{'bootstrap': False,\n",
       " 'max_depth': 30,\n",
       " 'max_features': 0.2,\n",
       " 'min_samples_leaf': 4,\n",
       " 'min_samples_split': 9,\n",
       " 'n_estimators': 300}"
      ]
     },
     "execution_count": 17,
     "metadata": {},
     "output_type": "execute_result"
    }
   ],
   "source": [
    "search_params = {'n_estimators': [300, 400, 500],\n",
    "               'max_features': [.2, 'sqrt', 'log2'],\n",
    "               'max_depth': [30, 40, 50],\n",
    "               'min_samples_split': [8, 9, 10],\n",
    "               'min_samples_leaf': [3, 4, 5],\n",
    "               'bootstrap': [False, True]}\n",
    "\n",
    "rf_search_grid = GridSearchCV(rf, search_params, \n",
    "                          cv = 3, n_jobs = -1, verbose = 2)\n",
    "rf_search_grid.fit(X_train, y_train)\n",
    "rf_search_grid.best_params_"
   ]
  },
  {
   "cell_type": "code",
   "execution_count": 6,
   "metadata": {
    "Collapsed": "false"
   },
   "outputs": [
    {
     "data": {
      "text/html": [
       "<div>\n",
       "<style scoped>\n",
       "    .dataframe tbody tr th:only-of-type {\n",
       "        vertical-align: middle;\n",
       "    }\n",
       "\n",
       "    .dataframe tbody tr th {\n",
       "        vertical-align: top;\n",
       "    }\n",
       "\n",
       "    .dataframe thead th {\n",
       "        text-align: right;\n",
       "    }\n",
       "</style>\n",
       "<table border=\"1\" class=\"dataframe\">\n",
       "  <thead>\n",
       "    <tr style=\"text-align: right;\">\n",
       "      <th></th>\n",
       "      <th>Sensitivity0</th>\n",
       "      <th>Specificity0</th>\n",
       "      <th>Accuracy0</th>\n",
       "      <th>AUC0</th>\n",
       "      <th>Sensitivity1</th>\n",
       "      <th>Specificity1</th>\n",
       "      <th>Accuracy1</th>\n",
       "      <th>AUC1</th>\n",
       "      <th>Sensitivity</th>\n",
       "      <th>Specificity</th>\n",
       "      <th>Accuracy</th>\n",
       "      <th>AUC</th>\n",
       "    </tr>\n",
       "  </thead>\n",
       "  <tbody>\n",
       "    <tr>\n",
       "      <th>count</th>\n",
       "      <td>400.000000</td>\n",
       "      <td>400.000000</td>\n",
       "      <td>400.000000</td>\n",
       "      <td>400.000000</td>\n",
       "      <td>400.000000</td>\n",
       "      <td>400.000000</td>\n",
       "      <td>400.000000</td>\n",
       "      <td>400.000000</td>\n",
       "      <td>400.000000</td>\n",
       "      <td>400.000000</td>\n",
       "      <td>400.000000</td>\n",
       "      <td>400.000000</td>\n",
       "    </tr>\n",
       "    <tr>\n",
       "      <th>mean</th>\n",
       "      <td>0.724845</td>\n",
       "      <td>0.690515</td>\n",
       "      <td>0.705578</td>\n",
       "      <td>0.707680</td>\n",
       "      <td>0.690515</td>\n",
       "      <td>0.724845</td>\n",
       "      <td>0.705578</td>\n",
       "      <td>0.707680</td>\n",
       "      <td>0.690515</td>\n",
       "      <td>0.724845</td>\n",
       "      <td>0.705578</td>\n",
       "      <td>0.707680</td>\n",
       "    </tr>\n",
       "    <tr>\n",
       "      <th>std</th>\n",
       "      <td>0.042363</td>\n",
       "      <td>0.035503</td>\n",
       "      <td>0.022508</td>\n",
       "      <td>0.022897</td>\n",
       "      <td>0.035503</td>\n",
       "      <td>0.042363</td>\n",
       "      <td>0.022508</td>\n",
       "      <td>0.022897</td>\n",
       "      <td>0.035503</td>\n",
       "      <td>0.042363</td>\n",
       "      <td>0.022508</td>\n",
       "      <td>0.022897</td>\n",
       "    </tr>\n",
       "    <tr>\n",
       "      <th>min</th>\n",
       "      <td>0.635659</td>\n",
       "      <td>0.624242</td>\n",
       "      <td>0.656463</td>\n",
       "      <td>0.656730</td>\n",
       "      <td>0.624242</td>\n",
       "      <td>0.635659</td>\n",
       "      <td>0.656463</td>\n",
       "      <td>0.656730</td>\n",
       "      <td>0.624242</td>\n",
       "      <td>0.635659</td>\n",
       "      <td>0.656463</td>\n",
       "      <td>0.656730</td>\n",
       "    </tr>\n",
       "    <tr>\n",
       "      <th>25%</th>\n",
       "      <td>0.682171</td>\n",
       "      <td>0.654545</td>\n",
       "      <td>0.687075</td>\n",
       "      <td>0.690275</td>\n",
       "      <td>0.654545</td>\n",
       "      <td>0.682171</td>\n",
       "      <td>0.687075</td>\n",
       "      <td>0.690275</td>\n",
       "      <td>0.654545</td>\n",
       "      <td>0.682171</td>\n",
       "      <td>0.687075</td>\n",
       "      <td>0.690275</td>\n",
       "    </tr>\n",
       "    <tr>\n",
       "      <th>50%</th>\n",
       "      <td>0.732558</td>\n",
       "      <td>0.690909</td>\n",
       "      <td>0.705782</td>\n",
       "      <td>0.704299</td>\n",
       "      <td>0.690909</td>\n",
       "      <td>0.732558</td>\n",
       "      <td>0.705782</td>\n",
       "      <td>0.704299</td>\n",
       "      <td>0.690909</td>\n",
       "      <td>0.732558</td>\n",
       "      <td>0.705782</td>\n",
       "      <td>0.704299</td>\n",
       "    </tr>\n",
       "    <tr>\n",
       "      <th>75%</th>\n",
       "      <td>0.751938</td>\n",
       "      <td>0.727273</td>\n",
       "      <td>0.724490</td>\n",
       "      <td>0.727484</td>\n",
       "      <td>0.727273</td>\n",
       "      <td>0.751938</td>\n",
       "      <td>0.724490</td>\n",
       "      <td>0.727484</td>\n",
       "      <td>0.727273</td>\n",
       "      <td>0.751938</td>\n",
       "      <td>0.724490</td>\n",
       "      <td>0.727484</td>\n",
       "    </tr>\n",
       "    <tr>\n",
       "      <th>max</th>\n",
       "      <td>0.798450</td>\n",
       "      <td>0.745455</td>\n",
       "      <td>0.744898</td>\n",
       "      <td>0.749049</td>\n",
       "      <td>0.745455</td>\n",
       "      <td>0.798450</td>\n",
       "      <td>0.744898</td>\n",
       "      <td>0.749049</td>\n",
       "      <td>0.745455</td>\n",
       "      <td>0.798450</td>\n",
       "      <td>0.744898</td>\n",
       "      <td>0.749049</td>\n",
       "    </tr>\n",
       "  </tbody>\n",
       "</table>\n",
       "</div>"
      ],
      "text/plain": [
       "       Sensitivity0  Specificity0   Accuracy0        AUC0  Sensitivity1  \\\n",
       "count    400.000000    400.000000  400.000000  400.000000    400.000000   \n",
       "mean       0.724845      0.690515    0.705578    0.707680      0.690515   \n",
       "std        0.042363      0.035503    0.022508    0.022897      0.035503   \n",
       "min        0.635659      0.624242    0.656463    0.656730      0.624242   \n",
       "25%        0.682171      0.654545    0.687075    0.690275      0.654545   \n",
       "50%        0.732558      0.690909    0.705782    0.704299      0.690909   \n",
       "75%        0.751938      0.727273    0.724490    0.727484      0.727273   \n",
       "max        0.798450      0.745455    0.744898    0.749049      0.745455   \n",
       "\n",
       "       Specificity1   Accuracy1        AUC1  Sensitivity  Specificity  \\\n",
       "count    400.000000  400.000000  400.000000   400.000000   400.000000   \n",
       "mean       0.724845    0.705578    0.707680     0.690515     0.724845   \n",
       "std        0.042363    0.022508    0.022897     0.035503     0.042363   \n",
       "min        0.635659    0.656463    0.656730     0.624242     0.635659   \n",
       "25%        0.682171    0.687075    0.690275     0.654545     0.682171   \n",
       "50%        0.732558    0.705782    0.704299     0.690909     0.732558   \n",
       "75%        0.751938    0.724490    0.727484     0.727273     0.751938   \n",
       "max        0.798450    0.744898    0.749049     0.745455     0.798450   \n",
       "\n",
       "         Accuracy         AUC  \n",
       "count  400.000000  400.000000  \n",
       "mean     0.705578    0.707680  \n",
       "std      0.022508    0.022897  \n",
       "min      0.656463    0.656730  \n",
       "25%      0.687075    0.690275  \n",
       "50%      0.705782    0.704299  \n",
       "75%      0.724490    0.727484  \n",
       "max      0.744898    0.749049  "
      ]
     },
     "metadata": {},
     "output_type": "display_data"
    }
   ],
   "source": [
    "best = RandomForestClassifier(n_estimators=300, max_features=.2, max_depth = 30, min_samples_split = 9, min_samples_leaf = 4, bootstrap=False, random_state=33433)\n",
    "df = splitrepeat_cv(X,y,best,splits=list(int(x)*42+42 for x in range(20)),repeats=list(int(x)*42+42 for x in range(20)), avg_strategy='weighted', initial_split_seed=33433, initial_split_ratio=.25)\n",
    "display(df.describe())\n",
    "\n",
    "### Save outputs ###\n",
    "q = 'CExam_2class_MMSE_400'\n",
    "\n",
    "df['set'] = q\n",
    "df.to_csv(('../models/outputs/' + q + '.csv'), index=False)"
   ]
  },
  {
   "cell_type": "markdown",
   "metadata": {
    "Collapsed": "false"
   },
   "source": [
    "# MOCA - detect CDR"
   ]
  },
  {
   "cell_type": "code",
   "execution_count": 7,
   "metadata": {
    "Collapsed": "false"
   },
   "outputs": [],
   "source": [
    "features = ['moca_visuo_exec', 'moca_clock',\n",
    "       'moca_naming', 'moca_digits', 'moca_letters', 'moca_serial7',\n",
    "       'moca_repeat', 'moca_fluency', 'moca_similarities', 'moca_recall',\n",
    "       'moca_orient']\n",
    "\n",
    "X = data[features]\n",
    "y = data['CDGLOBAL']\n",
    "y.replace({2:1},inplace=True)"
   ]
  },
  {
   "cell_type": "code",
   "execution_count": 20,
   "metadata": {
    "Collapsed": "false"
   },
   "outputs": [
    {
     "name": "stdout",
     "output_type": "stream",
     "text": [
      "Fitting 3 folds for each of 400 candidates, totalling 1200 fits\n"
     ]
    },
    {
     "name": "stderr",
     "output_type": "stream",
     "text": [
      "[Parallel(n_jobs=-1)]: Using backend LokyBackend with 8 concurrent workers.\n",
      "[Parallel(n_jobs=-1)]: Done  25 tasks      | elapsed:    8.1s\n",
      "[Parallel(n_jobs=-1)]: Done 146 tasks      | elapsed:   45.3s\n",
      "[Parallel(n_jobs=-1)]: Done 349 tasks      | elapsed:  1.6min\n",
      "[Parallel(n_jobs=-1)]: Done 632 tasks      | elapsed:  2.9min\n",
      "[Parallel(n_jobs=-1)]: Done 997 tasks      | elapsed:  4.6min\n",
      "[Parallel(n_jobs=-1)]: Done 1200 out of 1200 | elapsed:  5.5min finished\n"
     ]
    },
    {
     "data": {
      "text/plain": [
       "{'n_estimators': 800,\n",
       " 'min_samples_split': 10,\n",
       " 'min_samples_leaf': 4,\n",
       " 'max_features': 'log2',\n",
       " 'max_depth': 50,\n",
       " 'bootstrap': True}"
      ]
     },
     "execution_count": 20,
     "metadata": {},
     "output_type": "execute_result"
    }
   ],
   "source": [
    "from sklearn.ensemble import RandomForestClassifier\n",
    "from sklearn.model_selection import RandomizedSearchCV\n",
    "from sklearn.model_selection import GridSearchCV\n",
    "\n",
    "X, X_test, y, y_test = train_test_split(X, y, train_size=0.25, random_state=33433, stratify=y)\n",
    "X_train, X_valid, y_train, y_valid = train_test_split(X, y, test_size=0.25, random_state=33433, stratify=y)    \n",
    "rf = RandomForestClassifier(n_estimators=100, max_features=.5, random_state=0)\n",
    "\n",
    "# Search parameters\n",
    "n_estimators = [int(x) for x in np.linspace(start = 200, stop = 2000, num = 10)]\n",
    "max_features = ['sqrt', 'log2', .3, .5, .7, .9]\n",
    "max_depth = [int(x) for x in np.linspace(10, 110, num = 11)]\n",
    "max_depth.append(None)\n",
    "min_samples_split = [2, 5, 10]\n",
    "min_samples_leaf = [1, 2, 4]\n",
    "bootstrap = [True, False]\n",
    "\n",
    "search_params = {'n_estimators': n_estimators,\n",
    "               'max_features': max_features,\n",
    "               'max_depth': max_depth,\n",
    "               'min_samples_split': min_samples_split,\n",
    "               'min_samples_leaf': min_samples_leaf,\n",
    "               'bootstrap': bootstrap}\n",
    "rf_search_rand = RandomizedSearchCV(rf, search_params, n_iter=400,cv=3,verbose=2,random_state=33433, n_jobs=-1)\n",
    "rf_search_rand.fit(X_train, y_train)\n",
    "rf_search_rand.best_params_"
   ]
  },
  {
   "cell_type": "code",
   "execution_count": 21,
   "metadata": {
    "Collapsed": "false"
   },
   "outputs": [
    {
     "name": "stdout",
     "output_type": "stream",
     "text": [
      "Fitting 3 folds for each of 486 candidates, totalling 1458 fits\n"
     ]
    },
    {
     "name": "stderr",
     "output_type": "stream",
     "text": [
      "[Parallel(n_jobs=-1)]: Using backend LokyBackend with 8 concurrent workers.\n",
      "[Parallel(n_jobs=-1)]: Done  25 tasks      | elapsed:    5.0s\n",
      "[Parallel(n_jobs=-1)]: Done 146 tasks      | elapsed:   25.0s\n",
      "[Parallel(n_jobs=-1)]: Done 349 tasks      | elapsed:   59.5s\n",
      "[Parallel(n_jobs=-1)]: Done 632 tasks      | elapsed:  1.8min\n",
      "[Parallel(n_jobs=-1)]: Done 997 tasks      | elapsed:  3.1min\n",
      "[Parallel(n_jobs=-1)]: Done 1442 tasks      | elapsed:  4.7min\n",
      "[Parallel(n_jobs=-1)]: Done 1458 out of 1458 | elapsed:  4.7min finished\n"
     ]
    },
    {
     "data": {
      "text/plain": [
       "{'bootstrap': True,\n",
       " 'max_depth': 40,\n",
       " 'max_features': 'sqrt',\n",
       " 'min_samples_leaf': 4,\n",
       " 'min_samples_split': 10,\n",
       " 'n_estimators': 800}"
      ]
     },
     "execution_count": 21,
     "metadata": {},
     "output_type": "execute_result"
    }
   ],
   "source": [
    "search_params = {'n_estimators': [700, 800, 900],\n",
    "               'max_features': [.2, 'sqrt', 'log2'],\n",
    "               'max_depth': [40, 50, 60],\n",
    "               'min_samples_split': [8, 9, 10],\n",
    "               'min_samples_leaf': [3, 4, 5],\n",
    "               'bootstrap': [False, True]}\n",
    "\n",
    "rf_search_grid = GridSearchCV(rf, search_params, \n",
    "                          cv = 3, n_jobs = -1, verbose = 2)\n",
    "rf_search_grid.fit(X_train, y_train)\n",
    "rf_search_grid.best_params_"
   ]
  },
  {
   "cell_type": "code",
   "execution_count": 8,
   "metadata": {
    "Collapsed": "false"
   },
   "outputs": [
    {
     "data": {
      "text/html": [
       "<div>\n",
       "<style scoped>\n",
       "    .dataframe tbody tr th:only-of-type {\n",
       "        vertical-align: middle;\n",
       "    }\n",
       "\n",
       "    .dataframe tbody tr th {\n",
       "        vertical-align: top;\n",
       "    }\n",
       "\n",
       "    .dataframe thead th {\n",
       "        text-align: right;\n",
       "    }\n",
       "</style>\n",
       "<table border=\"1\" class=\"dataframe\">\n",
       "  <thead>\n",
       "    <tr style=\"text-align: right;\">\n",
       "      <th></th>\n",
       "      <th>Sensitivity0</th>\n",
       "      <th>Specificity0</th>\n",
       "      <th>Accuracy0</th>\n",
       "      <th>AUC0</th>\n",
       "      <th>Sensitivity1</th>\n",
       "      <th>Specificity1</th>\n",
       "      <th>Accuracy1</th>\n",
       "      <th>AUC1</th>\n",
       "      <th>Sensitivity</th>\n",
       "      <th>Specificity</th>\n",
       "      <th>Accuracy</th>\n",
       "      <th>AUC</th>\n",
       "    </tr>\n",
       "  </thead>\n",
       "  <tbody>\n",
       "    <tr>\n",
       "      <th>count</th>\n",
       "      <td>400.000000</td>\n",
       "      <td>400.000000</td>\n",
       "      <td>400.000000</td>\n",
       "      <td>400.000000</td>\n",
       "      <td>400.000000</td>\n",
       "      <td>400.000000</td>\n",
       "      <td>400.000000</td>\n",
       "      <td>400.000000</td>\n",
       "      <td>400.000000</td>\n",
       "      <td>400.000000</td>\n",
       "      <td>400.000000</td>\n",
       "      <td>400.000000</td>\n",
       "    </tr>\n",
       "    <tr>\n",
       "      <th>mean</th>\n",
       "      <td>0.692229</td>\n",
       "      <td>0.698470</td>\n",
       "      <td>0.695731</td>\n",
       "      <td>0.695349</td>\n",
       "      <td>0.698470</td>\n",
       "      <td>0.692229</td>\n",
       "      <td>0.695731</td>\n",
       "      <td>0.695349</td>\n",
       "      <td>0.698470</td>\n",
       "      <td>0.692229</td>\n",
       "      <td>0.695731</td>\n",
       "      <td>0.695349</td>\n",
       "    </tr>\n",
       "    <tr>\n",
       "      <th>std</th>\n",
       "      <td>0.042522</td>\n",
       "      <td>0.034459</td>\n",
       "      <td>0.024949</td>\n",
       "      <td>0.025450</td>\n",
       "      <td>0.034459</td>\n",
       "      <td>0.042522</td>\n",
       "      <td>0.024949</td>\n",
       "      <td>0.025450</td>\n",
       "      <td>0.034459</td>\n",
       "      <td>0.042522</td>\n",
       "      <td>0.024949</td>\n",
       "      <td>0.025450</td>\n",
       "    </tr>\n",
       "    <tr>\n",
       "      <th>min</th>\n",
       "      <td>0.596899</td>\n",
       "      <td>0.618182</td>\n",
       "      <td>0.653061</td>\n",
       "      <td>0.649471</td>\n",
       "      <td>0.618182</td>\n",
       "      <td>0.596899</td>\n",
       "      <td>0.653061</td>\n",
       "      <td>0.649471</td>\n",
       "      <td>0.618182</td>\n",
       "      <td>0.596899</td>\n",
       "      <td>0.653061</td>\n",
       "      <td>0.649471</td>\n",
       "    </tr>\n",
       "    <tr>\n",
       "      <th>25%</th>\n",
       "      <td>0.666667</td>\n",
       "      <td>0.672727</td>\n",
       "      <td>0.680272</td>\n",
       "      <td>0.678700</td>\n",
       "      <td>0.672727</td>\n",
       "      <td>0.666667</td>\n",
       "      <td>0.680272</td>\n",
       "      <td>0.678700</td>\n",
       "      <td>0.672727</td>\n",
       "      <td>0.666667</td>\n",
       "      <td>0.680272</td>\n",
       "      <td>0.678700</td>\n",
       "    </tr>\n",
       "    <tr>\n",
       "      <th>50%</th>\n",
       "      <td>0.689922</td>\n",
       "      <td>0.696970</td>\n",
       "      <td>0.687075</td>\n",
       "      <td>0.689641</td>\n",
       "      <td>0.696970</td>\n",
       "      <td>0.689922</td>\n",
       "      <td>0.687075</td>\n",
       "      <td>0.689641</td>\n",
       "      <td>0.696970</td>\n",
       "      <td>0.689922</td>\n",
       "      <td>0.687075</td>\n",
       "      <td>0.689641</td>\n",
       "    </tr>\n",
       "    <tr>\n",
       "      <th>75%</th>\n",
       "      <td>0.715116</td>\n",
       "      <td>0.727273</td>\n",
       "      <td>0.714286</td>\n",
       "      <td>0.711628</td>\n",
       "      <td>0.727273</td>\n",
       "      <td>0.715116</td>\n",
       "      <td>0.714286</td>\n",
       "      <td>0.711628</td>\n",
       "      <td>0.727273</td>\n",
       "      <td>0.715116</td>\n",
       "      <td>0.714286</td>\n",
       "      <td>0.711628</td>\n",
       "    </tr>\n",
       "    <tr>\n",
       "      <th>max</th>\n",
       "      <td>0.782946</td>\n",
       "      <td>0.793939</td>\n",
       "      <td>0.748299</td>\n",
       "      <td>0.747357</td>\n",
       "      <td>0.793939</td>\n",
       "      <td>0.782946</td>\n",
       "      <td>0.748299</td>\n",
       "      <td>0.747357</td>\n",
       "      <td>0.793939</td>\n",
       "      <td>0.782946</td>\n",
       "      <td>0.748299</td>\n",
       "      <td>0.747357</td>\n",
       "    </tr>\n",
       "  </tbody>\n",
       "</table>\n",
       "</div>"
      ],
      "text/plain": [
       "       Sensitivity0  Specificity0   Accuracy0        AUC0  Sensitivity1  \\\n",
       "count    400.000000    400.000000  400.000000  400.000000    400.000000   \n",
       "mean       0.692229      0.698470    0.695731    0.695349      0.698470   \n",
       "std        0.042522      0.034459    0.024949    0.025450      0.034459   \n",
       "min        0.596899      0.618182    0.653061    0.649471      0.618182   \n",
       "25%        0.666667      0.672727    0.680272    0.678700      0.672727   \n",
       "50%        0.689922      0.696970    0.687075    0.689641      0.696970   \n",
       "75%        0.715116      0.727273    0.714286    0.711628      0.727273   \n",
       "max        0.782946      0.793939    0.748299    0.747357      0.793939   \n",
       "\n",
       "       Specificity1   Accuracy1        AUC1  Sensitivity  Specificity  \\\n",
       "count    400.000000  400.000000  400.000000   400.000000   400.000000   \n",
       "mean       0.692229    0.695731    0.695349     0.698470     0.692229   \n",
       "std        0.042522    0.024949    0.025450     0.034459     0.042522   \n",
       "min        0.596899    0.653061    0.649471     0.618182     0.596899   \n",
       "25%        0.666667    0.680272    0.678700     0.672727     0.666667   \n",
       "50%        0.689922    0.687075    0.689641     0.696970     0.689922   \n",
       "75%        0.715116    0.714286    0.711628     0.727273     0.715116   \n",
       "max        0.782946    0.748299    0.747357     0.793939     0.782946   \n",
       "\n",
       "         Accuracy         AUC  \n",
       "count  400.000000  400.000000  \n",
       "mean     0.695731    0.695349  \n",
       "std      0.024949    0.025450  \n",
       "min      0.653061    0.649471  \n",
       "25%      0.680272    0.678700  \n",
       "50%      0.687075    0.689641  \n",
       "75%      0.714286    0.711628  \n",
       "max      0.748299    0.747357  "
      ]
     },
     "metadata": {},
     "output_type": "display_data"
    }
   ],
   "source": [
    "best = RandomForestClassifier(n_estimators=800, max_features='sqrt', max_depth = 40, min_samples_split = 10, min_samples_leaf = 4, bootstrap=True, random_state=33433)\n",
    "df = splitrepeat_cv(X,y,best,splits=list(int(x)*42+42 for x in range(20)),repeats=list(int(x)*42+42 for x in range(20)), avg_strategy='weighted', initial_split_seed=33433, initial_split_ratio=.25)\n",
    "display(df.describe())\n",
    "\n",
    "### Save outputs ###\n",
    "q = 'CExam_2class_MOCA_400'\n",
    "\n",
    "df['set'] = q\n",
    "df.to_csv(('../models/outputs/' + q + '.csv'), index=False)"
   ]
  },
  {
   "cell_type": "markdown",
   "metadata": {
    "Collapsed": "false"
   },
   "source": [
    "# ADAS - detect CDR"
   ]
  },
  {
   "cell_type": "code",
   "execution_count": 9,
   "metadata": {
    "Collapsed": "false"
   },
   "outputs": [],
   "source": [
    "features = ['ADAS_Q1', 'ADAS_Q2', 'ADAS_Q3',\n",
    "       'ADAS_Q4', 'ADAS_Q5', 'ADAS_Q6', 'ADAS_Q7', 'ADAS_Q8', 'ADAS_Q9',\n",
    "       'ADAS_Q10', 'ADAS_Q11', 'ADAS_Q12', 'ADAS_Q13']\n",
    "\n",
    "X = data[features]\n",
    "y = data['CDGLOBAL']\n",
    "y.replace({2:1},inplace=True)"
   ]
  },
  {
   "cell_type": "code",
   "execution_count": 24,
   "metadata": {
    "Collapsed": "false"
   },
   "outputs": [
    {
     "name": "stdout",
     "output_type": "stream",
     "text": [
      "Fitting 3 folds for each of 400 candidates, totalling 1200 fits\n"
     ]
    },
    {
     "name": "stderr",
     "output_type": "stream",
     "text": [
      "[Parallel(n_jobs=-1)]: Using backend LokyBackend with 8 concurrent workers.\n",
      "[Parallel(n_jobs=-1)]: Done  25 tasks      | elapsed:    8.3s\n",
      "[Parallel(n_jobs=-1)]: Done 146 tasks      | elapsed:   45.0s\n",
      "[Parallel(n_jobs=-1)]: Done 349 tasks      | elapsed:  1.7min\n",
      "[Parallel(n_jobs=-1)]: Done 632 tasks      | elapsed:  3.0min\n",
      "[Parallel(n_jobs=-1)]: Done 997 tasks      | elapsed:  4.6min\n",
      "[Parallel(n_jobs=-1)]: Done 1200 out of 1200 | elapsed:  5.6min finished\n"
     ]
    },
    {
     "data": {
      "text/plain": [
       "{'n_estimators': 800,\n",
       " 'min_samples_split': 5,\n",
       " 'min_samples_leaf': 4,\n",
       " 'max_features': 'sqrt',\n",
       " 'max_depth': 80,\n",
       " 'bootstrap': True}"
      ]
     },
     "execution_count": 24,
     "metadata": {},
     "output_type": "execute_result"
    }
   ],
   "source": [
    "from sklearn.ensemble import RandomForestClassifier\n",
    "from sklearn.model_selection import RandomizedSearchCV\n",
    "from sklearn.model_selection import GridSearchCV\n",
    "\n",
    "X, X_test, y, y_test = train_test_split(X, y, train_size=0.25, random_state=33433, stratify=y)\n",
    "X_train, X_valid, y_train, y_valid = train_test_split(X, y, test_size=0.25, random_state=33433, stratify=y)    \n",
    "rf = RandomForestClassifier(n_estimators=100, max_features=.5, random_state=0)\n",
    "\n",
    "# Search parameters\n",
    "n_estimators = [int(x) for x in np.linspace(start = 200, stop = 2000, num = 10)]\n",
    "max_features = ['sqrt', 'log2', .3, .5, .7, .9]\n",
    "max_depth = [int(x) for x in np.linspace(10, 110, num = 11)]\n",
    "max_depth.append(None)\n",
    "min_samples_split = [2, 5, 10]\n",
    "min_samples_leaf = [1, 2, 4]\n",
    "bootstrap = [True, False]\n",
    "\n",
    "search_params = {'n_estimators': n_estimators,\n",
    "               'max_features': max_features,\n",
    "               'max_depth': max_depth,\n",
    "               'min_samples_split': min_samples_split,\n",
    "               'min_samples_leaf': min_samples_leaf,\n",
    "               'bootstrap': bootstrap}\n",
    "rf_search_rand = RandomizedSearchCV(rf, search_params, n_iter=400,cv=3,verbose=2,random_state=33433, n_jobs=-1)\n",
    "rf_search_rand.fit(X_train, y_train)\n",
    "rf_search_rand.best_params_"
   ]
  },
  {
   "cell_type": "code",
   "execution_count": 25,
   "metadata": {
    "Collapsed": "false"
   },
   "outputs": [
    {
     "name": "stdout",
     "output_type": "stream",
     "text": [
      "Fitting 3 folds for each of 486 candidates, totalling 1458 fits\n"
     ]
    },
    {
     "name": "stderr",
     "output_type": "stream",
     "text": [
      "[Parallel(n_jobs=-1)]: Using backend LokyBackend with 8 concurrent workers.\n",
      "[Parallel(n_jobs=-1)]: Done  25 tasks      | elapsed:    4.9s\n",
      "[Parallel(n_jobs=-1)]: Done 146 tasks      | elapsed:   25.1s\n",
      "[Parallel(n_jobs=-1)]: Done 349 tasks      | elapsed:   59.9s\n",
      "[Parallel(n_jobs=-1)]: Done 632 tasks      | elapsed:  1.8min\n",
      "[Parallel(n_jobs=-1)]: Done 997 tasks      | elapsed:  3.1min\n",
      "[Parallel(n_jobs=-1)]: Done 1442 tasks      | elapsed:  4.7min\n",
      "[Parallel(n_jobs=-1)]: Done 1458 out of 1458 | elapsed:  4.7min finished\n"
     ]
    },
    {
     "data": {
      "text/plain": [
       "{'bootstrap': True,\n",
       " 'max_depth': 70,\n",
       " 'max_features': 'sqrt',\n",
       " 'min_samples_leaf': 4,\n",
       " 'min_samples_split': 4,\n",
       " 'n_estimators': 800}"
      ]
     },
     "execution_count": 25,
     "metadata": {},
     "output_type": "execute_result"
    }
   ],
   "source": [
    "search_params = {'n_estimators': [700, 800, 900],\n",
    "               'max_features': [.2, 'sqrt', 'log2'],\n",
    "               'max_depth': [70, 80, 90],\n",
    "               'min_samples_split': [4, 5, 6],\n",
    "               'min_samples_leaf': [3, 4, 5],\n",
    "               'bootstrap': [False, True]}\n",
    "\n",
    "rf_search_grid = GridSearchCV(rf, search_params, \n",
    "                          cv = 3, n_jobs = -1, verbose = 2)\n",
    "rf_search_grid.fit(X_train, y_train)\n",
    "rf_search_grid.best_params_"
   ]
  },
  {
   "cell_type": "code",
   "execution_count": 10,
   "metadata": {
    "Collapsed": "false"
   },
   "outputs": [
    {
     "data": {
      "text/html": [
       "<div>\n",
       "<style scoped>\n",
       "    .dataframe tbody tr th:only-of-type {\n",
       "        vertical-align: middle;\n",
       "    }\n",
       "\n",
       "    .dataframe tbody tr th {\n",
       "        vertical-align: top;\n",
       "    }\n",
       "\n",
       "    .dataframe thead th {\n",
       "        text-align: right;\n",
       "    }\n",
       "</style>\n",
       "<table border=\"1\" class=\"dataframe\">\n",
       "  <thead>\n",
       "    <tr style=\"text-align: right;\">\n",
       "      <th></th>\n",
       "      <th>Sensitivity0</th>\n",
       "      <th>Specificity0</th>\n",
       "      <th>Accuracy0</th>\n",
       "      <th>AUC0</th>\n",
       "      <th>Sensitivity1</th>\n",
       "      <th>Specificity1</th>\n",
       "      <th>Accuracy1</th>\n",
       "      <th>AUC1</th>\n",
       "      <th>Sensitivity</th>\n",
       "      <th>Specificity</th>\n",
       "      <th>Accuracy</th>\n",
       "      <th>AUC</th>\n",
       "    </tr>\n",
       "  </thead>\n",
       "  <tbody>\n",
       "    <tr>\n",
       "      <th>count</th>\n",
       "      <td>400.000000</td>\n",
       "      <td>400.000000</td>\n",
       "      <td>400.000000</td>\n",
       "      <td>400.000000</td>\n",
       "      <td>400.000000</td>\n",
       "      <td>400.000000</td>\n",
       "      <td>400.000000</td>\n",
       "      <td>400.000000</td>\n",
       "      <td>400.000000</td>\n",
       "      <td>400.000000</td>\n",
       "      <td>400.000000</td>\n",
       "      <td>400.000000</td>\n",
       "    </tr>\n",
       "    <tr>\n",
       "      <th>mean</th>\n",
       "      <td>0.728857</td>\n",
       "      <td>0.756000</td>\n",
       "      <td>0.744090</td>\n",
       "      <td>0.742428</td>\n",
       "      <td>0.756000</td>\n",
       "      <td>0.728857</td>\n",
       "      <td>0.744090</td>\n",
       "      <td>0.742428</td>\n",
       "      <td>0.756000</td>\n",
       "      <td>0.728857</td>\n",
       "      <td>0.744090</td>\n",
       "      <td>0.742428</td>\n",
       "    </tr>\n",
       "    <tr>\n",
       "      <th>std</th>\n",
       "      <td>0.044487</td>\n",
       "      <td>0.032028</td>\n",
       "      <td>0.023851</td>\n",
       "      <td>0.024777</td>\n",
       "      <td>0.032028</td>\n",
       "      <td>0.044487</td>\n",
       "      <td>0.023851</td>\n",
       "      <td>0.024777</td>\n",
       "      <td>0.032028</td>\n",
       "      <td>0.044487</td>\n",
       "      <td>0.023851</td>\n",
       "      <td>0.024777</td>\n",
       "    </tr>\n",
       "    <tr>\n",
       "      <th>min</th>\n",
       "      <td>0.643411</td>\n",
       "      <td>0.690909</td>\n",
       "      <td>0.700680</td>\n",
       "      <td>0.694433</td>\n",
       "      <td>0.690909</td>\n",
       "      <td>0.643411</td>\n",
       "      <td>0.700680</td>\n",
       "      <td>0.694433</td>\n",
       "      <td>0.690909</td>\n",
       "      <td>0.643411</td>\n",
       "      <td>0.700680</td>\n",
       "      <td>0.694433</td>\n",
       "    </tr>\n",
       "    <tr>\n",
       "      <th>25%</th>\n",
       "      <td>0.697674</td>\n",
       "      <td>0.733333</td>\n",
       "      <td>0.727891</td>\n",
       "      <td>0.722322</td>\n",
       "      <td>0.733333</td>\n",
       "      <td>0.697674</td>\n",
       "      <td>0.727891</td>\n",
       "      <td>0.722322</td>\n",
       "      <td>0.733333</td>\n",
       "      <td>0.697674</td>\n",
       "      <td>0.727891</td>\n",
       "      <td>0.722322</td>\n",
       "    </tr>\n",
       "    <tr>\n",
       "      <th>50%</th>\n",
       "      <td>0.720930</td>\n",
       "      <td>0.745455</td>\n",
       "      <td>0.748299</td>\n",
       "      <td>0.744644</td>\n",
       "      <td>0.745455</td>\n",
       "      <td>0.720930</td>\n",
       "      <td>0.748299</td>\n",
       "      <td>0.744644</td>\n",
       "      <td>0.745455</td>\n",
       "      <td>0.720930</td>\n",
       "      <td>0.748299</td>\n",
       "      <td>0.744644</td>\n",
       "    </tr>\n",
       "    <tr>\n",
       "      <th>75%</th>\n",
       "      <td>0.759690</td>\n",
       "      <td>0.781818</td>\n",
       "      <td>0.761905</td>\n",
       "      <td>0.757435</td>\n",
       "      <td>0.781818</td>\n",
       "      <td>0.759690</td>\n",
       "      <td>0.761905</td>\n",
       "      <td>0.757435</td>\n",
       "      <td>0.781818</td>\n",
       "      <td>0.759690</td>\n",
       "      <td>0.761905</td>\n",
       "      <td>0.757435</td>\n",
       "    </tr>\n",
       "    <tr>\n",
       "      <th>max</th>\n",
       "      <td>0.852713</td>\n",
       "      <td>0.836364</td>\n",
       "      <td>0.806122</td>\n",
       "      <td>0.810359</td>\n",
       "      <td>0.836364</td>\n",
       "      <td>0.852713</td>\n",
       "      <td>0.806122</td>\n",
       "      <td>0.810359</td>\n",
       "      <td>0.836364</td>\n",
       "      <td>0.852713</td>\n",
       "      <td>0.806122</td>\n",
       "      <td>0.810359</td>\n",
       "    </tr>\n",
       "  </tbody>\n",
       "</table>\n",
       "</div>"
      ],
      "text/plain": [
       "       Sensitivity0  Specificity0   Accuracy0        AUC0  Sensitivity1  \\\n",
       "count    400.000000    400.000000  400.000000  400.000000    400.000000   \n",
       "mean       0.728857      0.756000    0.744090    0.742428      0.756000   \n",
       "std        0.044487      0.032028    0.023851    0.024777      0.032028   \n",
       "min        0.643411      0.690909    0.700680    0.694433      0.690909   \n",
       "25%        0.697674      0.733333    0.727891    0.722322      0.733333   \n",
       "50%        0.720930      0.745455    0.748299    0.744644      0.745455   \n",
       "75%        0.759690      0.781818    0.761905    0.757435      0.781818   \n",
       "max        0.852713      0.836364    0.806122    0.810359      0.836364   \n",
       "\n",
       "       Specificity1   Accuracy1        AUC1  Sensitivity  Specificity  \\\n",
       "count    400.000000  400.000000  400.000000   400.000000   400.000000   \n",
       "mean       0.728857    0.744090    0.742428     0.756000     0.728857   \n",
       "std        0.044487    0.023851    0.024777     0.032028     0.044487   \n",
       "min        0.643411    0.700680    0.694433     0.690909     0.643411   \n",
       "25%        0.697674    0.727891    0.722322     0.733333     0.697674   \n",
       "50%        0.720930    0.748299    0.744644     0.745455     0.720930   \n",
       "75%        0.759690    0.761905    0.757435     0.781818     0.759690   \n",
       "max        0.852713    0.806122    0.810359     0.836364     0.852713   \n",
       "\n",
       "         Accuracy         AUC  \n",
       "count  400.000000  400.000000  \n",
       "mean     0.744090    0.742428  \n",
       "std      0.023851    0.024777  \n",
       "min      0.700680    0.694433  \n",
       "25%      0.727891    0.722322  \n",
       "50%      0.748299    0.744644  \n",
       "75%      0.761905    0.757435  \n",
       "max      0.806122    0.810359  "
      ]
     },
     "metadata": {},
     "output_type": "display_data"
    }
   ],
   "source": [
    "best = RandomForestClassifier(n_estimators=800, max_features='sqrt', max_depth = 70, min_samples_split = 4, min_samples_leaf = 4, bootstrap=True, random_state=33433)\n",
    "df = splitrepeat_cv(X,y,best,splits=list(int(x)*42+42 for x in range(20)),repeats=list(int(x)*42+42 for x in range(20)), avg_strategy='weighted', initial_split_seed=33433, initial_split_ratio=.25)\n",
    "display(df.describe())\n",
    "\n",
    "### Save outputs ###\n",
    "q = 'CExam_2class_ADAS_400'\n",
    "\n",
    "df['set'] = q\n",
    "df.to_csv(('../models/outputs/' + q + '.csv'), index=False)"
   ]
  },
  {
   "cell_type": "markdown",
   "metadata": {
    "Collapsed": "false"
   },
   "source": [
    "# EverydayCognition - detect CDR"
   ]
  },
  {
   "cell_type": "code",
   "execution_count": 11,
   "metadata": {
    "Collapsed": "false"
   },
   "outputs": [],
   "source": [
    "features = ['e_memory_pt', 'e_lang_pt', 'e_visspat_pt', 'e_plan_pt', 'e_organ_pt', \n",
    "            'e_divatt_pt','e_memory_cg', 'e_lang_cg', \n",
    "           'e_visspat_cg','e_plan_cg', 'e_organ_cg', 'e_divatt_cg']\n",
    "\n",
    "\n",
    "X = data[features]\n",
    "y = data['CDGLOBAL']\n",
    "y.replace({2:1},inplace=True)"
   ]
  },
  {
   "cell_type": "code",
   "execution_count": null,
   "metadata": {
    "Collapsed": "false"
   },
   "outputs": [],
   "source": [
    "from sklearn.ensemble import RandomForestClassifier\n",
    "from sklearn.model_selection import RandomizedSearchCV\n",
    "from sklearn.model_selection import GridSearchCV\n",
    "\n",
    "X, X_test, y, y_test = train_test_split(X, y, train_size=0.25, random_state=33433, stratify=y)\n",
    "X_train, X_valid, y_train, y_valid = train_test_split(X, y, test_size=0.25, random_state=33433, stratify=y)    \n",
    "rf = RandomForestClassifier(n_estimators=100, max_features=.5, random_state=0)\n",
    "\n",
    "# Search parameters\n",
    "n_estimators = [int(x) for x in np.linspace(start = 200, stop = 2000, num = 10)]\n",
    "max_features = ['sqrt', 'log2', .3, .5, .7, .9]\n",
    "max_depth = [int(x) for x in np.linspace(10, 110, num = 11)]\n",
    "max_depth.append(None)\n",
    "min_samples_split = [2, 5, 10]\n",
    "min_samples_leaf = [1, 2, 4]\n",
    "bootstrap = [True, False]\n",
    "\n",
    "search_params = {'n_estimators': n_estimators,\n",
    "               'max_features': max_features,\n",
    "               'max_depth': max_depth,\n",
    "               'min_samples_split': min_samples_split,\n",
    "               'min_samples_leaf': min_samples_leaf,\n",
    "               'bootstrap': bootstrap}\n",
    "rf_search_rand = RandomizedSearchCV(rf, search_params, n_iter=400,cv=3,verbose=2,random_state=33433, n_jobs=-1)\n",
    "rf_search_rand.fit(X_train, y_train)\n",
    "rf_search_rand.best_params_"
   ]
  },
  {
   "cell_type": "code",
   "execution_count": 29,
   "metadata": {
    "Collapsed": "false"
   },
   "outputs": [
    {
     "name": "stdout",
     "output_type": "stream",
     "text": [
      "Fitting 3 folds for each of 486 candidates, totalling 1458 fits\n"
     ]
    },
    {
     "name": "stderr",
     "output_type": "stream",
     "text": [
      "[Parallel(n_jobs=-1)]: Using backend LokyBackend with 8 concurrent workers.\n",
      "[Parallel(n_jobs=-1)]: Done  25 tasks      | elapsed:    5.0s\n",
      "[Parallel(n_jobs=-1)]: Done 146 tasks      | elapsed:   25.1s\n",
      "[Parallel(n_jobs=-1)]: Done 349 tasks      | elapsed:  1.0min\n",
      "[Parallel(n_jobs=-1)]: Done 632 tasks      | elapsed:  1.8min\n",
      "[Parallel(n_jobs=-1)]: Done 997 tasks      | elapsed:  3.1min\n",
      "[Parallel(n_jobs=-1)]: Done 1442 tasks      | elapsed:  4.7min\n",
      "[Parallel(n_jobs=-1)]: Done 1458 out of 1458 | elapsed:  4.7min finished\n"
     ]
    },
    {
     "data": {
      "text/plain": [
       "{'bootstrap': True,\n",
       " 'max_depth': 70,\n",
       " 'max_features': 'sqrt',\n",
       " 'min_samples_leaf': 4,\n",
       " 'min_samples_split': 4,\n",
       " 'n_estimators': 800}"
      ]
     },
     "execution_count": 29,
     "metadata": {},
     "output_type": "execute_result"
    }
   ],
   "source": [
    "search_params = {'n_estimators': [700, 800, 900],\n",
    "               'max_features': [.2, 'sqrt', 'log2'],\n",
    "               'max_depth': [70, 80, 90],\n",
    "               'min_samples_split': [4, 5, 6],\n",
    "               'min_samples_leaf': [3, 4, 5],\n",
    "               'bootstrap': [False, True]}\n",
    "\n",
    "rf_search_grid = GridSearchCV(rf, search_params, \n",
    "                          cv = 3, n_jobs = -1, verbose = 2)\n",
    "rf_search_grid.fit(X_train, y_train)\n",
    "rf_search_grid.best_params_"
   ]
  },
  {
   "cell_type": "code",
   "execution_count": 12,
   "metadata": {
    "Collapsed": "false"
   },
   "outputs": [
    {
     "data": {
      "text/html": [
       "<div>\n",
       "<style scoped>\n",
       "    .dataframe tbody tr th:only-of-type {\n",
       "        vertical-align: middle;\n",
       "    }\n",
       "\n",
       "    .dataframe tbody tr th {\n",
       "        vertical-align: top;\n",
       "    }\n",
       "\n",
       "    .dataframe thead th {\n",
       "        text-align: right;\n",
       "    }\n",
       "</style>\n",
       "<table border=\"1\" class=\"dataframe\">\n",
       "  <thead>\n",
       "    <tr style=\"text-align: right;\">\n",
       "      <th></th>\n",
       "      <th>Sensitivity0</th>\n",
       "      <th>Specificity0</th>\n",
       "      <th>Accuracy0</th>\n",
       "      <th>AUC0</th>\n",
       "      <th>Sensitivity1</th>\n",
       "      <th>Specificity1</th>\n",
       "      <th>Accuracy1</th>\n",
       "      <th>AUC1</th>\n",
       "      <th>Sensitivity</th>\n",
       "      <th>Specificity</th>\n",
       "      <th>Accuracy</th>\n",
       "      <th>AUC</th>\n",
       "    </tr>\n",
       "  </thead>\n",
       "  <tbody>\n",
       "    <tr>\n",
       "      <th>count</th>\n",
       "      <td>400.000000</td>\n",
       "      <td>400.000000</td>\n",
       "      <td>400.000000</td>\n",
       "      <td>400.000000</td>\n",
       "      <td>400.000000</td>\n",
       "      <td>400.000000</td>\n",
       "      <td>400.000000</td>\n",
       "      <td>400.000000</td>\n",
       "      <td>400.000000</td>\n",
       "      <td>400.000000</td>\n",
       "      <td>400.000000</td>\n",
       "      <td>400.000000</td>\n",
       "    </tr>\n",
       "    <tr>\n",
       "      <th>mean</th>\n",
       "      <td>0.758101</td>\n",
       "      <td>0.841530</td>\n",
       "      <td>0.804923</td>\n",
       "      <td>0.799816</td>\n",
       "      <td>0.841530</td>\n",
       "      <td>0.758101</td>\n",
       "      <td>0.804923</td>\n",
       "      <td>0.799816</td>\n",
       "      <td>0.841530</td>\n",
       "      <td>0.758101</td>\n",
       "      <td>0.804923</td>\n",
       "      <td>0.799816</td>\n",
       "    </tr>\n",
       "    <tr>\n",
       "      <th>std</th>\n",
       "      <td>0.038565</td>\n",
       "      <td>0.019471</td>\n",
       "      <td>0.017420</td>\n",
       "      <td>0.019046</td>\n",
       "      <td>0.019471</td>\n",
       "      <td>0.038565</td>\n",
       "      <td>0.017420</td>\n",
       "      <td>0.019046</td>\n",
       "      <td>0.019471</td>\n",
       "      <td>0.038565</td>\n",
       "      <td>0.017420</td>\n",
       "      <td>0.019046</td>\n",
       "    </tr>\n",
       "    <tr>\n",
       "      <th>min</th>\n",
       "      <td>0.674419</td>\n",
       "      <td>0.793939</td>\n",
       "      <td>0.765306</td>\n",
       "      <td>0.757928</td>\n",
       "      <td>0.793939</td>\n",
       "      <td>0.674419</td>\n",
       "      <td>0.765306</td>\n",
       "      <td>0.757928</td>\n",
       "      <td>0.793939</td>\n",
       "      <td>0.674419</td>\n",
       "      <td>0.765306</td>\n",
       "      <td>0.757928</td>\n",
       "    </tr>\n",
       "    <tr>\n",
       "      <th>25%</th>\n",
       "      <td>0.736434</td>\n",
       "      <td>0.830303</td>\n",
       "      <td>0.792517</td>\n",
       "      <td>0.785906</td>\n",
       "      <td>0.830303</td>\n",
       "      <td>0.736434</td>\n",
       "      <td>0.792517</td>\n",
       "      <td>0.785906</td>\n",
       "      <td>0.830303</td>\n",
       "      <td>0.736434</td>\n",
       "      <td>0.792517</td>\n",
       "      <td>0.785906</td>\n",
       "    </tr>\n",
       "    <tr>\n",
       "      <th>50%</th>\n",
       "      <td>0.759690</td>\n",
       "      <td>0.842424</td>\n",
       "      <td>0.809524</td>\n",
       "      <td>0.803488</td>\n",
       "      <td>0.842424</td>\n",
       "      <td>0.759690</td>\n",
       "      <td>0.809524</td>\n",
       "      <td>0.803488</td>\n",
       "      <td>0.842424</td>\n",
       "      <td>0.759690</td>\n",
       "      <td>0.809524</td>\n",
       "      <td>0.803488</td>\n",
       "    </tr>\n",
       "    <tr>\n",
       "      <th>75%</th>\n",
       "      <td>0.790698</td>\n",
       "      <td>0.854545</td>\n",
       "      <td>0.816327</td>\n",
       "      <td>0.810641</td>\n",
       "      <td>0.854545</td>\n",
       "      <td>0.790698</td>\n",
       "      <td>0.816327</td>\n",
       "      <td>0.810641</td>\n",
       "      <td>0.854545</td>\n",
       "      <td>0.790698</td>\n",
       "      <td>0.816327</td>\n",
       "      <td>0.810641</td>\n",
       "    </tr>\n",
       "    <tr>\n",
       "      <th>max</th>\n",
       "      <td>0.829457</td>\n",
       "      <td>0.890909</td>\n",
       "      <td>0.843537</td>\n",
       "      <td>0.841156</td>\n",
       "      <td>0.890909</td>\n",
       "      <td>0.829457</td>\n",
       "      <td>0.843537</td>\n",
       "      <td>0.841156</td>\n",
       "      <td>0.890909</td>\n",
       "      <td>0.829457</td>\n",
       "      <td>0.843537</td>\n",
       "      <td>0.841156</td>\n",
       "    </tr>\n",
       "  </tbody>\n",
       "</table>\n",
       "</div>"
      ],
      "text/plain": [
       "       Sensitivity0  Specificity0   Accuracy0        AUC0  Sensitivity1  \\\n",
       "count    400.000000    400.000000  400.000000  400.000000    400.000000   \n",
       "mean       0.758101      0.841530    0.804923    0.799816      0.841530   \n",
       "std        0.038565      0.019471    0.017420    0.019046      0.019471   \n",
       "min        0.674419      0.793939    0.765306    0.757928      0.793939   \n",
       "25%        0.736434      0.830303    0.792517    0.785906      0.830303   \n",
       "50%        0.759690      0.842424    0.809524    0.803488      0.842424   \n",
       "75%        0.790698      0.854545    0.816327    0.810641      0.854545   \n",
       "max        0.829457      0.890909    0.843537    0.841156      0.890909   \n",
       "\n",
       "       Specificity1   Accuracy1        AUC1  Sensitivity  Specificity  \\\n",
       "count    400.000000  400.000000  400.000000   400.000000   400.000000   \n",
       "mean       0.758101    0.804923    0.799816     0.841530     0.758101   \n",
       "std        0.038565    0.017420    0.019046     0.019471     0.038565   \n",
       "min        0.674419    0.765306    0.757928     0.793939     0.674419   \n",
       "25%        0.736434    0.792517    0.785906     0.830303     0.736434   \n",
       "50%        0.759690    0.809524    0.803488     0.842424     0.759690   \n",
       "75%        0.790698    0.816327    0.810641     0.854545     0.790698   \n",
       "max        0.829457    0.843537    0.841156     0.890909     0.829457   \n",
       "\n",
       "         Accuracy         AUC  \n",
       "count  400.000000  400.000000  \n",
       "mean     0.804923    0.799816  \n",
       "std      0.017420    0.019046  \n",
       "min      0.765306    0.757928  \n",
       "25%      0.792517    0.785906  \n",
       "50%      0.809524    0.803488  \n",
       "75%      0.816327    0.810641  \n",
       "max      0.843537    0.841156  "
      ]
     },
     "metadata": {},
     "output_type": "display_data"
    }
   ],
   "source": [
    "best = RandomForestClassifier(n_estimators=800, max_features='sqrt', max_depth = 70, min_samples_split = 4, min_samples_leaf = 4, bootstrap=True, random_state=33433)\n",
    "df = splitrepeat_cv(X,y,best,splits=list(int(x)*42+42 for x in range(20)),repeats=list(int(x)*42+42 for x in range(20)), avg_strategy='weighted', initial_split_seed=33433, initial_split_ratio=.25)\n",
    "display(df.describe())\n",
    "\n",
    "### Save outputs ###\n",
    "q = 'CExam_2class_ECog_400'\n",
    "\n",
    "df['set'] = q\n",
    "df.to_csv(('../models/outputs/' + q + '.csv'), index=False)"
   ]
  },
  {
   "cell_type": "code",
   "execution_count": null,
   "metadata": {
    "Collapsed": "false"
   },
   "outputs": [],
   "source": []
  }
 ],
 "metadata": {
  "kernelspec": {
   "display_name": "Python 3",
   "language": "python",
   "name": "python3"
  },
  "language_info": {
   "codemirror_mode": {
    "name": "ipython",
    "version": 3
   },
   "file_extension": ".py",
   "mimetype": "text/x-python",
   "name": "python",
   "nbconvert_exporter": "python",
   "pygments_lexer": "ipython3",
   "version": "3.7.3"
  }
 },
 "nbformat": 4,
 "nbformat_minor": 4
}
