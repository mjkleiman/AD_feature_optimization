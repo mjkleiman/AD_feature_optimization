{
 "cells": [
  {
   "cell_type": "code",
   "execution_count": 1,
   "metadata": {
    "Collapsed": "false"
   },
   "outputs": [],
   "source": [
    "from warnings import simplefilter\n",
    "simplefilter(action='ignore', category=FutureWarning)\n",
    "import rfpimp\n",
    "from sklearn.model_selection import GridSearchCV, RandomizedSearchCV\n",
    "from sklearn.inspection import permutation_importance\n",
    "\n",
    "import pandas as pd\n",
    "import numpy as np\n",
    "from sklearn.feature_selection import chi2, f_classif # Univariate analyses\n",
    "from sklearn.feature_selection import SelectKBest, SelectPercentile, VarianceThreshold\n",
    "from sklearn.feature_selection import RFE # Recursive feature elimination\n",
    "from sklearn.feature_selection import SelectFwe\n",
    "from sklearn.ensemble import RandomForestClassifier, GradientBoostingClassifier\n",
    "from sklearn.model_selection import cross_val_score, cross_val_predict, StratifiedKFold, train_test_split\n",
    "from sklearn.metrics import confusion_matrix, accuracy_score, roc_auc_score, classification_report, multilabel_confusion_matrix\n",
    "import splitrepeat as sr\n",
    "\n",
    "features=['moca_digits','moca_letters','moca_serial7','MMSPELL_early','MMSPELL_late','ADAS_Q1','moca_orient','ADAS_Q7','ADAS_Q8','ADAS_Q9','MMDATE',\n",
    "       'MMYEAR', 'MMMONTH', 'MMDAY', 'MMSEASON', 'MMHOSPIT', 'MMFLOOR','MMCITY', 'MMAREA', 'MMSTATE','nbspan_forward',\n",
    "       'faq7','faq8','moca_recall','ADAS_Q4','MMBALLDL', 'MMFLAGDL', 'MMTREEDL', 'LDELTOTAL', 'AVRECALL', 'AVDEL30MIN', 'AVDELTOT', 'AVDELERR2',\n",
    "       'faq9','moca_clock','MMDRAW','CLOCKCIRC', 'CLOCKSYM','CLOCKNUM', 'CLOCKHAND', 'CLOCKTIME', 'COPYCIRC', 'COPYSYM',\n",
    "       'COPYNUM', 'COPYHAND', 'COPYTIME', 'tmab_time', 'TRAAERRCOM','TRAAERROM', 'TRABERRCOM', 'TRABERROM','moca_naming','moca_repeat','moca_fluency',\n",
    "       'moca_similarities','ADAS_Q2', 'ADAS_Q5','ADAS_Q10','ADAS_Q11','ADAS_Q12','MMBALL', 'MMFLAG', 'MMTREE',\n",
    "       'MMWATCH', 'MMPENCIL','MMREPEAT','MMREAD', 'MMWRITE', 'CATANIMSC', 'CATVEGESC', 'moca_visuo_exec','ADAS_Q3','ADAS_Q6','ADAS_Q13','MMHAND', 'MMFOLD',\n",
    "       'MMONFLR','nbspan_backward','faq1','faq2','faq3', 'faq4','faq5','faq6','faq10','PXGENAPP', 'PXHEADEY', 'PXNECK', 'PXCHEST',\n",
    "       'PXHEART', 'PXABDOM', 'PXEXTREM', 'PXPERIPH', 'PXSKIN', 'PXMUSCUL', 'e_memory_pt', 'e_lang_pt', 'e_visspat_pt', 'e_plan_pt', 'e_organ_pt',\n",
    "       'e_divatt_pt','e_memory_cg', 'e_lang_cg', 'e_visspat_cg','e_plan_cg', 'e_organ_cg', 'e_divatt_cg']\n",
    "\n",
    "categorical_features = np.in1d(features, ['MMONFLR', 'faq10', 'faq6', 'COPYSYM', 'COPYNUM', 'faq5', 'MMTREE', 'COPYHAND', 'moca_clock', 'MMSEASON', 'moca_letters', \n",
    "                                          'MMBALL', 'faq9', 'MMFLOOR', 'MMDRAW', 'MMMONTH', 'PXGENAPP', 'MMWATCH', 'CLOCKCIRC', 'faq8', 'MMHOSPIT', 'moca_naming', \n",
    "                                          'PXEXTREM', 'CLOCKNUM', 'PXMUSCUL', 'faq1', 'MMTREEDL', 'CLOCKTIME', 'PXABDOM', 'MMFLAG', 'COPYCIRC', 'MMAREA', 'faq3', \n",
    "                                          'moca_digits', 'CLOCKHAND', 'MMREAD', 'MMYEAR', 'MMREPEAT', 'moca_visuo_exec','MMHAND', 'MMBALLDL', 'PXCHEST', 'MMDATE', \n",
    "                                          'MMFLAGDL',  'MMSTATE','moca_repeat', 'MMFOLD', 'MMPENCIL', 'MMDAY',  'faq2', 'PXHEART', 'CLOCKSYM', 'faq4', 'moca_serial7', \n",
    "                                          'faq7', 'MMCITY', 'PXHEADEY', 'COPYTIME', 'PXPERIPH', 'PXSKIN', 'moca_fluency', 'moca_similarities', 'PXNECK', 'MMWRITE',\n",
    "                                          'e_memory_pt', 'e_lang_pt', 'e_visspat_pt', 'e_plan_pt', 'e_organ_pt', 'e_divatt_pt','e_memory_cg', 'e_lang_cg', \n",
    "                                          'e_visspat_cg','e_plan_cg', 'e_organ_cg', 'e_divatt_cg'])\n",
    "\n",
    "data = pd.read_csv('../data/interim/data_adni.csv')\n",
    "X = data[features]\n",
    "y = data['CDGLOBAL']\n",
    "y.replace({1:0, 2:1},inplace=True)"
   ]
  },
  {
   "cell_type": "code",
   "execution_count": null,
   "metadata": {
    "Collapsed": "false"
   },
   "outputs": [],
   "source": [
    "# Divide data in half for tuning, to reduce leakage when using split/repeat cross-validation\n",
    "X, X_test, y, y_test = train_test_split(X, y, train_size=0.25, random_state=33433, stratify=y)\n",
    "\n",
    "from imblearn.over_sampling import SMOTENC\n",
    "sm = SMOTENC(categorical_features=categorical_features, sampling_strategy=.5, random_state=33433)\n",
    "X, y = sm.fit_resample(X,y)\n",
    "y = pd.Series(y)   \n",
    "\n",
    "X_train, X_valid, y_train, y_valid = train_test_split(X, y, test_size=0.25, random_state=33433, stratify=y)     "
   ]
  },
  {
   "cell_type": "markdown",
   "metadata": {
    "Collapsed": "false"
   },
   "source": [
    "# All - Feature Selection"
   ]
  },
  {
   "cell_type": "code",
   "execution_count": 3,
   "metadata": {
    "Collapsed": "false"
   },
   "outputs": [
    {
     "data": {
      "text/plain": [
       "RandomForestClassifier(bootstrap=False, max_depth=30, max_features='log2',\n",
       "                       min_samples_leaf=2, min_samples_split=5,\n",
       "                       n_estimators=1500, random_state=33433)"
      ]
     },
     "execution_count": 3,
     "metadata": {},
     "output_type": "execute_result"
    }
   ],
   "source": [
    "from sklearn.ensemble import GradientBoostingClassifier \n",
    "rf = RandomForestClassifier(n_estimators=1500, max_features='log2', max_depth = 30, min_samples_split = 5, min_samples_leaf = 2, bootstrap=False, random_state=33433)\n",
    "rf.fit(X_train, y_train)"
   ]
  },
  {
   "cell_type": "markdown",
   "metadata": {
    "Collapsed": "false"
   },
   "source": [
    "## BorutaSHAP"
   ]
  },
  {
   "cell_type": "code",
   "execution_count": 4,
   "metadata": {
    "Collapsed": "false"
   },
   "outputs": [],
   "source": [
    "from BorutaShap import BorutaShap\n",
    "\n",
    "bshap = BorutaShap(model=rf, importance_measure='shap', classification=True)"
   ]
  },
  {
   "cell_type": "code",
   "execution_count": 5,
   "metadata": {
    "Collapsed": "false"
   },
   "outputs": [
    {
     "name": "stderr",
     "output_type": "stream",
     "text": [
      "100%|██████████████████████████████████████| 150/150 [1:09:36<00:00, 27.84s/it]"
     ]
    },
    {
     "name": "stdout",
     "output_type": "stream",
     "text": [
      "64 attributes confirmed important: ['ADAS_Q1', 'COPYTIME', 'faq4', 'ADAS_Q6', 'e_plan_cg', 'MMFLAGDL', 'CATVEGESC', 'faq6', 'ADAS_Q10', 'moca_serial7', 'ADAS_Q5', 'PXSKIN', 'e_organ_cg', 'AVDELERR2', 'ADAS_Q3', 'TRAAERRCOM', 'MMMONTH', 'MMDATE', 'MMTREEDL', 'faq8', 'ADAS_Q9', 'CATANIMSC', 'tmab_time', 'TRABERROM', 'LDELTOTAL', 'ADAS_Q13', 'faq2', 'faq3', 'e_divatt_cg', 'moca_naming', 'e_lang_cg', 'faq1', 'MMBALLDL', 'ADAS_Q12', 'e_memory_cg', 'AVRECALL', 'PXHEADEY', 'moca_recall', 'MMDAY', 'AVDEL30MIN', 'AVDELTOT', 'moca_visuo_exec', 'nbspan_forward', 'moca_similarities', 'e_visspat_cg', 'e_divatt_pt', 'faq10', 'CLOCKTIME', 'CLOCKSYM', 'moca_clock', 'MMDRAW', 'moca_orient', 'faq7', 'ADAS_Q4', 'TRABERRCOM', 'ADAS_Q7', 'faq9', 'ADAS_Q2', 'ADAS_Q11', 'e_plan_pt', 'MMSPELL_late', 'ADAS_Q8', 'PXHEART', 'nbspan_backward']\n",
      "42 attributes confirmed unimportant: ['PXABDOM', 'MMYEAR', 'COPYCIRC', 'COPYSYM', 'MMHOSPIT', 'e_lang_pt', 'TRAAERROM', 'MMFOLD', 'MMTREE', 'MMWRITE', 'MMFLOOR', 'COPYNUM', 'CLOCKNUM', 'MMHAND', 'PXPERIPH', 'e_visspat_pt', 'MMONFLR', 'PXGENAPP', 'MMBALL', 'PXNECK', 'MMSEASON', 'moca_repeat', 'moca_letters', 'CLOCKHAND', 'MMSTATE', 'PXEXTREM', 'COPYHAND', 'MMREPEAT', 'MMAREA', 'MMPENCIL', 'CLOCKCIRC', 'moca_digits', 'PXCHEST', 'PXMUSCUL', 'MMSPELL_early', 'faq5', 'MMWATCH', 'e_organ_pt', 'MMCITY', 'MMFLAG', 'moca_fluency', 'MMREAD']\n",
      "1 tentative attributes remains: ['e_memory_pt']\n"
     ]
    },
    {
     "name": "stderr",
     "output_type": "stream",
     "text": [
      "\n"
     ]
    }
   ],
   "source": [
    "bshap.fit(X, y, random_state=33433, n_trials=150)"
   ]
  },
  {
   "cell_type": "code",
   "execution_count": 43,
   "metadata": {
    "Collapsed": "false"
   },
   "outputs": [
    {
     "name": "stderr",
     "output_type": "stream",
     "text": [
      "100%|██████████████████████████████████████████████████████████████████████████████████| 20/20 [11:45<00:00, 35.27s/it]"
     ]
    },
    {
     "name": "stdout",
     "output_type": "stream",
     "text": [
      "64 attributes confirmed important: ['e_visspat_cg', 'LDELTOTAL', 'ADAS_Q12', 'ADAS_Q9', 'ADAS_Q4', 'AVDELTOT', 'moca_clock', 'MMDAY', 'CLOCKTIME', 'moca_serial7', 'MMBALLDL', 'MMTREEDL', 'AVRECALL', 'faq7', 'faq1', 'CATANIMSC', 'TRABERRCOM', 'ADAS_Q5', 'MMMONTH', 'MMFLOOR', 'nbspan_forward', 'ADAS_Q11', 'faq8', 'faq6', 'faq3', 'ADAS_Q13', 'nbspan_backward', 'PXHEADEY', 'faq10', 'e_plan_pt', 'e_divatt_pt', 'MMFLAGDL', 'ADAS_Q7', 'AVDEL30MIN', 'CLOCKSYM', 'ADAS_Q1', 'tmab_time', 'faq9', 'moca_visuo_exec', 'ADAS_Q2', 'moca_recall', 'faq2', 'faq4', 'TRABERROM', 'moca_similarities', 'e_memory_cg', 'TRAAERRCOM', 'moca_orient', 'MMSPELL_late', 'ADAS_Q10', 'PXSKIN', 'AVDELERR2', 'e_divatt_cg', 'ADAS_Q8', 'e_organ_cg', 'CATVEGESC', 'e_plan_cg', 'MMDRAW', 'COPYTIME', 'ADAS_Q3', 'ADAS_Q6', 'PXHEART', 'MMDATE', 'e_lang_cg']\n",
      "37 attributes confirmed unimportant: ['MMCITY', 'PXNECK', 'MMPENCIL', 'e_memory_pt', 'MMAREA', 'MMFOLD', 'MMSEASON', 'MMWRITE', 'MMYEAR', 'CLOCKHAND', 'PXABDOM', 'TRAAERROM', 'moca_naming', 'COPYCIRC', 'PXPERIPH', 'moca_letters', 'MMWATCH', 'COPYHAND', 'MMTREE', 'PXCHEST', 'CLOCKNUM', 'moca_digits', 'MMFLAG', 'MMBALL', 'MMSPELL_early', 'MMSTATE', 'MMONFLR', 'MMREPEAT', 'moca_fluency', 'PXGENAPP', 'COPYNUM', 'MMHAND', 'MMREAD', 'CLOCKCIRC', 'COPYSYM', 'faq5', 'PXEXTREM']\n",
      "6 tentative attributes remains: ['e_visspat_pt', 'e_organ_pt', 'PXMUSCUL', 'moca_repeat', 'e_lang_pt', 'MMHOSPIT']\n"
     ]
    },
    {
     "name": "stderr",
     "output_type": "stream",
     "text": [
      "\n"
     ]
    }
   ],
   "source": [
    "bshap.fit(X, y)"
   ]
  },
  {
   "cell_type": "code",
   "execution_count": 6,
   "metadata": {
    "Collapsed": "false"
   },
   "outputs": [
    {
     "data": {
      "image/png": "[encoded data removed]",
      "text/plain": [
       "<Figure size 864x576 with 1 Axes>"
      ]
     },
     "metadata": {
      "needs_background": "light"
     },
     "output_type": "display_data"
    }
   ],
   "source": [
    "bshap.plot(which_features='accepted')"
   ]
  },
  {
   "cell_type": "code",
   "execution_count": 7,
   "metadata": {
    "Collapsed": "false"
   },
   "outputs": [
    {
     "data": {
      "image/png": "[encoded data removed]",
      "text/plain": [
       "<Figure size 864x576 with 1 Axes>"
      ]
     },
     "metadata": {
      "needs_background": "light"
     },
     "output_type": "display_data"
    }
   ],
   "source": [
    "bshap.plot(which_features='tentative')"
   ]
  },
  {
   "cell_type": "markdown",
   "metadata": {
    "Collapsed": "false"
   },
   "source": [
    "## Boruta FS"
   ]
  },
  {
   "cell_type": "code",
   "execution_count": 45,
   "metadata": {
    "Collapsed": "false"
   },
   "outputs": [
    {
     "name": "stdout",
     "output_type": "stream",
     "text": [
      "['MMSPELL_late', 'ADAS_Q1', 'moca_orient', 'ADAS_Q7', 'ADAS_Q8', 'MMDATE', 'MMDAY', 'faq7', 'faq8', 'ADAS_Q4', 'MMFLAGDL', 'MMTREEDL', 'LDELTOTAL', 'AVRECALL', 'AVDEL30MIN', 'AVDELTOT', 'AVDELERR2', 'faq9', 'moca_clock', 'CLOCKTIME', 'tmab_time', 'TRABERRCOM', 'TRABERROM', 'ADAS_Q2', 'ADAS_Q5', 'ADAS_Q10', 'ADAS_Q11', 'CATANIMSC', 'CATVEGESC', 'moca_visuo_exec', 'ADAS_Q3', 'ADAS_Q6', 'ADAS_Q13', 'faq1', 'faq2', 'faq3', 'faq4', 'faq6', 'faq10', 'PXHEADEY', 'e_plan_pt', 'e_divatt_pt', 'e_memory_cg', 'e_lang_cg', 'e_visspat_cg', 'e_plan_cg', 'e_organ_cg', 'e_divatt_cg']\n",
      "['ADAS_Q9', 'moca_recall', 'MMBALLDL', 'COPYTIME', 'nbspan_backward', 'PXSKIN']\n"
     ]
    }
   ],
   "source": [
    "from boruta import BorutaPy\n",
    "\n",
    "\n",
    "bp = BorutaPy(rf, n_estimators='auto', random_state=33433, verbose=0)\n",
    "bp.fit(X.values, y)\n",
    "\n",
    "features_ = list(np.array(features)[bp.support_])\n",
    "features_weak = list(np.array(features)[bp.support_weak_])\n",
    "\n",
    "print(features_)\n",
    "print(features_weak)"
   ]
  },
  {
   "cell_type": "code",
   "execution_count": 46,
   "metadata": {
    "Collapsed": "false"
   },
   "outputs": [
    {
     "name": "stdout",
     "output_type": "stream",
     "text": [
      "['moca_serial7', 'MMSPELL_late', 'ADAS_Q1', 'moca_orient', 'ADAS_Q7', 'ADAS_Q8', 'ADAS_Q9', 'MMDATE', 'MMMONTH', 'MMDAY', 'MMFLOOR', 'nbspan_forward', 'faq7', 'faq8', 'moca_recall', 'ADAS_Q4', 'MMBALLDL', 'MMFLAGDL', 'MMTREEDL', 'LDELTOTAL', 'AVRECALL', 'AVDEL30MIN', 'AVDELTOT', 'AVDELERR2', 'faq9', 'moca_clock', 'MMDRAW', 'CLOCKSYM', 'CLOCKTIME', 'COPYTIME', 'tmab_time', 'TRAAERRCOM', 'TRABERRCOM', 'TRABERROM', 'moca_naming', 'moca_similarities', 'ADAS_Q2', 'ADAS_Q5', 'ADAS_Q10', 'ADAS_Q11', 'ADAS_Q12', 'CATANIMSC', 'CATVEGESC', 'moca_visuo_exec', 'ADAS_Q3', 'ADAS_Q6', 'ADAS_Q13', 'nbspan_backward', 'faq1', 'faq2', 'faq3', 'faq4', 'faq6', 'faq10', 'PXHEADEY', 'PXHEART', 'PXSKIN', 'e_memory_pt', 'e_lang_pt', 'e_visspat_pt', 'e_plan_pt', 'e_organ_pt', 'e_divatt_pt', 'e_memory_cg', 'e_lang_cg', 'e_visspat_cg', 'e_plan_cg', 'e_organ_cg', 'e_divatt_cg']\n",
      "['MMHOSPIT', 'moca_repeat']\n"
     ]
    }
   ],
   "source": [
    "from boruta import BorutaPy\n",
    "\n",
    "bp = BorutaPy(rf, n_estimators='auto', random_state=33433, verbose=0, perc=85)\n",
    "bp.fit(X.values, y)\n",
    "\n",
    "features_ = list(np.array(features)[bp.support_])\n",
    "features_weak = list(np.array(features)[bp.support_weak_])\n",
    "\n",
    "print(features_)\n",
    "print(features_weak)"
   ]
  },
  {
   "cell_type": "code",
   "execution_count": 47,
   "metadata": {
    "Collapsed": "false"
   },
   "outputs": [
    {
     "name": "stdout",
     "output_type": "stream",
     "text": [
      "['moca_serial7', 'MMSPELL_late', 'ADAS_Q1', 'moca_orient', 'ADAS_Q7', 'ADAS_Q8', 'ADAS_Q9', 'MMDATE', 'MMMONTH', 'MMDAY', 'MMSEASON', 'MMHOSPIT', 'MMFLOOR', 'nbspan_forward', 'faq7', 'faq8', 'moca_recall', 'ADAS_Q4', 'MMBALLDL', 'MMFLAGDL', 'MMTREEDL', 'LDELTOTAL', 'AVRECALL', 'AVDEL30MIN', 'AVDELTOT', 'AVDELERR2', 'faq9', 'moca_clock', 'MMDRAW', 'CLOCKSYM', 'CLOCKNUM', 'CLOCKTIME', 'COPYTIME', 'tmab_time', 'TRAAERRCOM', 'TRABERRCOM', 'TRABERROM', 'moca_naming', 'moca_repeat', 'moca_fluency', 'moca_similarities', 'ADAS_Q2', 'ADAS_Q5', 'ADAS_Q10', 'ADAS_Q11', 'ADAS_Q12', 'CATANIMSC', 'CATVEGESC', 'moca_visuo_exec', 'ADAS_Q3', 'ADAS_Q6', 'ADAS_Q13', 'MMHAND', 'nbspan_backward', 'faq1', 'faq2', 'faq3', 'faq4', 'faq6', 'faq10', 'PXHEADEY', 'PXHEART', 'PXPERIPH', 'PXSKIN', 'PXMUSCUL', 'e_memory_pt', 'e_lang_pt', 'e_visspat_pt', 'e_plan_pt', 'e_organ_pt', 'e_divatt_pt', 'e_memory_cg', 'e_lang_cg', 'e_visspat_cg', 'e_plan_cg', 'e_organ_cg', 'e_divatt_cg']\n",
      "['MMREPEAT']\n"
     ]
    }
   ],
   "source": [
    "from boruta import BorutaPy\n",
    "\n",
    "bp = BorutaPy(rf, n_estimators='auto', random_state=33433, verbose=0, perc=70)\n",
    "bp.fit(X.values, y)\n",
    "\n",
    "features_ = list(np.array(features)[bp.support_])\n",
    "features_weak = list(np.array(features)[bp.support_weak_])\n",
    "\n",
    "print(features_)\n",
    "print(features_weak)"
   ]
  },
  {
   "cell_type": "markdown",
   "metadata": {
    "Collapsed": "false"
   },
   "source": [
    "## RFE"
   ]
  },
  {
   "cell_type": "code",
   "execution_count": 48,
   "metadata": {
    "Collapsed": "false"
   },
   "outputs": [
    {
     "name": "stdout",
     "output_type": "stream",
     "text": [
      "Fitting estimator with 107 features.\n",
      "Fitting estimator with 106 features.\n",
      "Fitting estimator with 105 features.\n",
      "Fitting estimator with 104 features.\n",
      "Fitting estimator with 103 features.\n",
      "Fitting estimator with 102 features.\n",
      "Fitting estimator with 101 features.\n",
      "Fitting estimator with 100 features.\n",
      "Fitting estimator with 99 features.\n",
      "Fitting estimator with 98 features.\n",
      "Fitting estimator with 97 features.\n",
      "Fitting estimator with 96 features.\n",
      "Fitting estimator with 95 features.\n",
      "Fitting estimator with 94 features.\n",
      "Fitting estimator with 93 features.\n",
      "Fitting estimator with 92 features.\n",
      "Fitting estimator with 91 features.\n",
      "Fitting estimator with 90 features.\n",
      "Fitting estimator with 89 features.\n",
      "Fitting estimator with 88 features.\n",
      "Fitting estimator with 87 features.\n",
      "Fitting estimator with 86 features.\n",
      "Fitting estimator with 85 features.\n",
      "Fitting estimator with 84 features.\n",
      "Fitting estimator with 83 features.\n",
      "Fitting estimator with 82 features.\n",
      "Fitting estimator with 81 features.\n",
      "Fitting estimator with 80 features.\n",
      "Fitting estimator with 79 features.\n",
      "Fitting estimator with 78 features.\n",
      "Fitting estimator with 77 features.\n",
      "Fitting estimator with 76 features.\n",
      "Fitting estimator with 75 features.\n",
      "Fitting estimator with 74 features.\n",
      "Fitting estimator with 73 features.\n",
      "Fitting estimator with 72 features.\n",
      "Fitting estimator with 71 features.\n",
      "Fitting estimator with 70 features.\n",
      "Fitting estimator with 69 features.\n",
      "Fitting estimator with 68 features.\n",
      "Fitting estimator with 67 features.\n",
      "Fitting estimator with 66 features.\n",
      "Fitting estimator with 65 features.\n",
      "Fitting estimator with 64 features.\n",
      "Fitting estimator with 63 features.\n",
      "Fitting estimator with 62 features.\n",
      "Fitting estimator with 61 features.\n",
      "Fitting estimator with 60 features.\n",
      "Fitting estimator with 59 features.\n",
      "Fitting estimator with 58 features.\n",
      "Fitting estimator with 57 features.\n",
      "Fitting estimator with 56 features.\n",
      "Fitting estimator with 55 features.\n",
      "Fitting estimator with 54 features.\n",
      "Fitting estimator with 53 features.\n",
      "Fitting estimator with 52 features.\n",
      "Fitting estimator with 51 features.\n",
      "Fitting estimator with 50 features.\n",
      "Fitting estimator with 49 features.\n",
      "Fitting estimator with 48 features.\n",
      "Fitting estimator with 47 features.\n",
      "Fitting estimator with 46 features.\n",
      "Fitting estimator with 45 features.\n",
      "Fitting estimator with 44 features.\n",
      "Fitting estimator with 43 features.\n",
      "Fitting estimator with 42 features.\n",
      "Fitting estimator with 41 features.\n",
      "Fitting estimator with 40 features.\n",
      "Fitting estimator with 39 features.\n",
      "Fitting estimator with 38 features.\n",
      "Fitting estimator with 37 features.\n",
      "Fitting estimator with 36 features.\n",
      "Fitting estimator with 35 features.\n",
      "Fitting estimator with 34 features.\n",
      "Fitting estimator with 33 features.\n",
      "Fitting estimator with 32 features.\n",
      "Fitting estimator with 31 features.\n",
      "Fitting estimator with 30 features.\n",
      "Fitting estimator with 29 features.\n",
      "Fitting estimator with 28 features.\n",
      "Fitting estimator with 27 features.\n",
      "Fitting estimator with 26 features.\n",
      "Fitting estimator with 25 features.\n",
      "Fitting estimator with 24 features.\n",
      "Fitting estimator with 23 features.\n",
      "Fitting estimator with 22 features.\n",
      "Fitting estimator with 21 features.\n",
      "Fitting estimator with 20 features.\n",
      "Fitting estimator with 19 features.\n",
      "Fitting estimator with 18 features.\n",
      "Fitting estimator with 17 features.\n",
      "Fitting estimator with 16 features.\n",
      "['ADAS_Q7', 'ADAS_Q8', 'faq7', 'ADAS_Q4', 'MMTREEDL', 'faq9', 'CLOCKTIME', 'tmab_time', 'ADAS_Q3', 'faq1', 'faq2', 'faq3', 'faq6', 'faq10', 'e_visspat_cg']\n"
     ]
    }
   ],
   "source": [
    "selector = RFE(rf, n_features_to_select=15, step=1, verbose=1)\n",
    "selector = selector.fit(X, y)\n",
    "features_ = list(np.array(features)[selector.support_])\n",
    "print(features_)"
   ]
  },
  {
   "cell_type": "code",
   "execution_count": null,
   "metadata": {
    "Collapsed": "false"
   },
   "outputs": [],
   "source": []
  }
 ],
 "metadata": {
  "kernelspec": {
   "display_name": "Python 3",
   "language": "python",
   "name": "python3"
  },
  "language_info": {
   "codemirror_mode": {
    "name": "ipython",
    "version": 3
   },
   "file_extension": ".py",
   "mimetype": "text/x-python",
   "name": "python",
   "nbconvert_exporter": "python",
   "pygments_lexer": "ipython3",
   "version": "3.7.3"
  }
 },
 "nbformat": 4,
 "nbformat_minor": 4
}
