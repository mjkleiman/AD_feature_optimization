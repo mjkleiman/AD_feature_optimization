{
 "cells": [
  {
   "cell_type": "code",
   "execution_count": 1,
   "metadata": {
    "Collapsed": "false"
   },
   "outputs": [],
   "source": [
    "import pandas as pd\n",
    "import numpy as np\n",
    "from sklearn.ensemble import RandomForestClassifier\n",
    "from sklearn.model_selection import cross_val_score, cross_val_predict, StratifiedKFold, train_test_split\n",
    "from sklearn.metrics import confusion_matrix, accuracy_score, roc_auc_score, classification_report, multilabel_confusion_matrix\n",
    "import tensorflow as tf\n",
    "import datetime, os\n",
    "from tensorflow.keras.layers import Input, Dense, Activation, Dropout, Flatten, concatenate\n",
    "from tensorflow.keras.models import Model, Sequential\n",
    "from tensorflow.keras.callbacks import ModelCheckpoint\n",
    "from tensorflow.keras.utils import plot_model\n",
    "from tensorflow.keras.optimizers import SGD\n",
    "from tensorflow.keras.constraints import MaxNorm\n",
    "from sklearn.model_selection import GridSearchCV\n",
    "from splitrepeat import splitrepeat_cv\n",
    "\n",
    "config = tf.compat.v1.ConfigProto(gpu_options = tf.compat.v1.GPUOptions(per_process_gpu_memory_fraction=0.8))\n",
    "config.gpu_options.allow_growth = True\n",
    "session = tf.compat.v1.Session(config=config)\n",
    "tf.compat.v1.keras.backend.set_session(session)\n",
    "\n",
    "features=['moca_digits','moca_letters','moca_serial7','MMSPELL_early','MMSPELL_late','ADAS_Q1','moca_orient','ADAS_Q7','ADAS_Q8','ADAS_Q9','MMDATE',\n",
    "       'MMYEAR', 'MMMONTH', 'MMDAY', 'MMSEASON', 'MMHOSPIT', 'MMFLOOR','MMCITY', 'MMAREA', 'MMSTATE','nbspan_forward',\n",
    "       'faq7','faq8','moca_recall','ADAS_Q4','MMBALLDL', 'MMFLAGDL', 'MMTREEDL', 'LDELTOTAL', 'AVRECALL', 'AVDEL30MIN', 'AVDELTOT', 'AVDELERR2',\n",
    "       'faq9','moca_clock','MMDRAW','CLOCKCIRC', 'CLOCKSYM','CLOCKNUM', 'CLOCKHAND', 'CLOCKTIME', 'COPYCIRC', 'COPYSYM',\n",
    "       'COPYNUM', 'COPYHAND', 'COPYTIME', 'tmab_time', 'TRAAERRCOM','TRAAERROM', 'TRABERRCOM', 'TRABERROM','moca_naming','moca_repeat','moca_fluency',\n",
    "       'moca_similarities','ADAS_Q2', 'ADAS_Q5','ADAS_Q10','ADAS_Q11','ADAS_Q12','MMBALL', 'MMFLAG', 'MMTREE',\n",
    "       'MMWATCH', 'MMPENCIL','MMREPEAT','MMREAD', 'MMWRITE', 'CATANIMSC', 'CATVEGESC', 'moca_visuo_exec','ADAS_Q3','ADAS_Q6','ADAS_Q13','MMHAND', 'MMFOLD',\n",
    "       'MMONFLR','nbspan_backward','faq1','faq2','faq3', 'faq4','faq5','faq6','faq10','PXGENAPP', 'PXHEADEY', 'PXNECK', 'PXCHEST',\n",
    "       'PXHEART', 'PXABDOM', 'PXEXTREM', 'PXPERIPH', 'PXSKIN', 'PXMUSCUL', 'e_memory_pt', 'e_lang_pt', 'e_visspat_pt', 'e_plan_pt', 'e_organ_pt',\n",
    "       'e_divatt_pt','e_memory_cg', 'e_lang_cg', 'e_visspat_cg','e_plan_cg', 'e_organ_cg', 'e_divatt_cg']\n",
    "\n",
    "\n",
    "categorical_features = np.in1d(features, ['MMONFLR', 'faq10', 'faq6', 'COPYSYM', 'COPYNUM', 'faq5', 'MMTREE', 'COPYHAND', 'moca_clock', 'MMSEASON', 'moca_letters', \n",
    "                                          'MMBALL', 'faq9', 'MMFLOOR', 'MMDRAW', 'MMMONTH', 'PXGENAPP', 'MMWATCH', 'CLOCKCIRC', 'faq8', 'MMHOSPIT', 'moca_naming', \n",
    "                                          'PXEXTREM', 'CLOCKNUM', 'PXMUSCUL', 'faq1', 'MMTREEDL', 'CLOCKTIME', 'PXABDOM', 'MMFLAG', 'COPYCIRC', 'MMAREA', 'faq3', \n",
    "                                          'moca_digits', 'CLOCKHAND', 'MMREAD', 'MMYEAR', 'MMREPEAT', 'moca_visuo_exec','MMHAND', 'MMBALLDL', 'PXCHEST', 'MMDATE', \n",
    "                                          'MMFLAGDL',  'MMSTATE','moca_repeat', 'MMFOLD', 'MMPENCIL', 'MMDAY',  'faq2', 'PXHEART', 'CLOCKSYM', 'faq4', 'moca_serial7', \n",
    "                                          'faq7', 'MMCITY', 'PXHEADEY', 'COPYTIME', 'PXPERIPH', 'PXSKIN', 'moca_fluency', 'moca_similarities', 'PXNECK', 'MMWRITE',\n",
    "                                          'e_memory_pt', 'e_lang_pt', 'e_visspat_pt', 'e_plan_pt', 'e_organ_pt', 'e_divatt_pt','e_memory_cg', 'e_lang_cg', \n",
    "                                          'e_visspat_cg','e_plan_cg', 'e_organ_cg', 'e_divatt_cg'])\n",
    "\n",
    "data = pd.read_csv('../data/interim/data_adni.csv')\n",
    "X = data[features]\n",
    "y = data['CDGLOBAL']"
   ]
  },
  {
   "cell_type": "code",
   "execution_count": 2,
   "metadata": {
    "Collapsed": "false"
   },
   "outputs": [],
   "source": [
    "X, X_test, y, y_test = train_test_split(X, y, train_size=0.25, random_state=33433, stratify=y)\n",
    "X_train, X_valid, y_train, y_valid = train_test_split(X, y, test_size=0.25, random_state=33433, stratify=y)     "
   ]
  },
  {
   "cell_type": "markdown",
   "metadata": {
    "Collapsed": "false"
   },
   "source": [
    "# All - Feature Selection"
   ]
  },
  {
   "cell_type": "code",
   "execution_count": 3,
   "metadata": {
    "Collapsed": "false"
   },
   "outputs": [
    {
     "data": {
      "text/plain": [
       "RandomForestClassifier(bootstrap=False, max_depth=90, max_features=0.3,\n",
       "                       min_samples_leaf=4, min_samples_split=4,\n",
       "                       n_estimators=1400, random_state=33433)"
      ]
     },
     "execution_count": 3,
     "metadata": {},
     "output_type": "execute_result"
    }
   ],
   "source": [
    "from sklearn.ensemble import GradientBoostingClassifier \n",
    "rf = RandomForestClassifier(n_estimators=700, max_features=.3, max_depth = 20, min_samples_split = 10, min_samples_leaf = 1, bootstrap=True, random_state=33433)\n",
    "rf.fit(X_train, y_train)"
   ]
  },
  {
   "cell_type": "markdown",
   "metadata": {
    "Collapsed": "false"
   },
   "source": [
    "## BorutaSHAP"
   ]
  },
  {
   "cell_type": "code",
   "execution_count": 4,
   "metadata": {
    "Collapsed": "false"
   },
   "outputs": [],
   "source": [
    "from BorutaShap import BorutaShap\n",
    "\n",
    "bshap = BorutaShap(model=rf, importance_measure='shap', classification=True)"
   ]
  },
  {
   "cell_type": "code",
   "execution_count": 5,
   "metadata": {
    "Collapsed": "false"
   },
   "outputs": [
    {
     "name": "stderr",
     "output_type": "stream",
     "text": [
      "100%|██████████████████████████████████████| 200/200 [1:58:18<00:00, 35.49s/it]"
     ]
    },
    {
     "name": "stdout",
     "output_type": "stream",
     "text": [
      "17 attributes confirmed important: ['e_lang_pt', 'faq2', 'ADAS_Q1', 'LDELTOTAL', 'faq3', 'ADAS_Q4', 'tmab_time', 'faq9', 'e_divatt_cg', 'ADAS_Q8', 'faq7', 'e_lang_cg', 'ADAS_Q7', 'faq10', 'e_memory_pt', 'CATANIMSC', 'e_memory_cg']\n",
      "88 attributes confirmed unimportant: ['ADAS_Q3', 'PXNECK', 'MMSPELL_late', 'ADAS_Q11', 'e_visspat_cg', 'moca_clock', 'moca_orient', 'COPYTIME', 'PXMUSCUL', 'COPYCIRC', 'ADAS_Q10', 'moca_letters', 'MMDRAW', 'PXEXTREM', 'AVDEL30MIN', 'MMSTATE', 'PXHEADEY', 'ADAS_Q6', 'AVDELERR2', 'ADAS_Q9', 'TRABERROM', 'moca_digits', 'MMDATE', 'AVDELTOT', 'CLOCKCIRC', 'MMMONTH', 'faq6', 'faq8', 'moca_visuo_exec', 'PXABDOM', 'e_divatt_pt', 'faq5', 'COPYSYM', 'CLOCKHAND', 'MMHAND', 'MMYEAR', 'MMBALLDL', 'e_organ_cg', 'TRAAERROM', 'faq1', 'moca_naming', 'MMHOSPIT', 'COPYNUM', 'ADAS_Q12', 'MMTREE', 'MMFOLD', 'MMAREA', 'CLOCKTIME', 'MMFLOOR', 'TRABERRCOM', 'TRAAERRCOM', 'faq4', 'PXHEART', 'PXGENAPP', 'MMFLAGDL', 'moca_similarities', 'PXPERIPH', 'MMWRITE', 'MMWATCH', 'e_organ_pt', 'COPYHAND', 'moca_repeat', 'moca_fluency', 'e_visspat_pt', 'MMFLAG', 'PXCHEST', 'moca_recall', 'MMSEASON', 'MMONFLR', 'nbspan_forward', 'ADAS_Q13', 'CLOCKSYM', 'MMREPEAT', 'PXSKIN', 'MMDAY', 'MMREAD', 'e_plan_cg', 'AVRECALL', 'CLOCKNUM', 'MMSPELL_early', 'MMCITY', 'ADAS_Q2', 'MMTREEDL', 'MMBALL', 'ADAS_Q5', 'MMPENCIL', 'nbspan_backward', 'moca_serial7']\n",
      "2 tentative attributes remains: ['e_plan_pt', 'CATVEGESC']\n"
     ]
    },
    {
     "name": "stderr",
     "output_type": "stream",
     "text": [
      "\n"
     ]
    }
   ],
   "source": [
    "bshap.fit(X, y, random_state=33433, n_trials=200)"
   ]
  },
  {
   "cell_type": "code",
   "execution_count": 5,
   "metadata": {
    "Collapsed": "false"
   },
   "outputs": [
    {
     "name": "stderr",
     "output_type": "stream",
     "text": [
      "100%|██████████████████████████████████████████████████████████████████████████████████| 20/20 [12:21<00:00, 37.07s/it]"
     ]
    },
    {
     "name": "stdout",
     "output_type": "stream",
     "text": [
      "14 attributes confirmed important: ['e_divatt_cg', 'LDELTOTAL', 'faq9', 'e_memory_pt', 'ADAS_Q8', 'faq2', 'ADAS_Q7', 'faq10', 'tmab_time', 'faq3', 'e_memory_cg', 'e_lang_cg', 'ADAS_Q1', 'ADAS_Q4']\n",
      "86 attributes confirmed unimportant: ['PXABDOM', 'AVDELERR2', 'ADAS_Q2', 'PXPERIPH', 'moca_orient', 'AVRECALL', 'e_organ_pt', 'MMWRITE', 'COPYTIME', 'MMREPEAT', 'MMONFLR', 'COPYNUM', 'MMFLOOR', 'moca_repeat', 'e_divatt_pt', 'ADAS_Q9', 'faq4', 'CLOCKCIRC', 'moca_similarities', 'MMBALLDL', 'PXEXTREM', 'CLOCKHAND', 'MMSPELL_late', 'faq1', 'e_visspat_cg', 'moca_recall', 'MMDRAW', 'MMWATCH', 'CLOCKTIME', 'MMAREA', 'MMSPELL_early', 'PXMUSCUL', 'e_plan_cg', 'MMBALL', 'TRAAERROM', 'MMDAY', 'MMFLAG', 'ADAS_Q3', 'ADAS_Q10', 'MMYEAR', 'PXCHEST', 'PXHEADEY', 'PXHEART', 'COPYHAND', 'ADAS_Q13', 'MMPENCIL', 'MMHOSPIT', 'faq8', 'COPYCIRC', 'MMMONTH', 'MMFOLD', 'MMDATE', 'moca_visuo_exec', 'PXNECK', 'nbspan_backward', 'ADAS_Q12', 'moca_letters', 'faq6', 'MMTREE', 'faq5', 'moca_naming', 'MMREAD', 'MMSTATE', 'TRABERRCOM', 'moca_clock', 'COPYSYM', 'MMSEASON', 'PXSKIN', 'AVDEL30MIN', 'MMFLAGDL', 'TRAAERRCOM', 'e_organ_cg', 'moca_fluency', 'CLOCKSYM', 'MMCITY', 'MMTREEDL', 'moca_digits', 'MMHAND', 'ADAS_Q6', 'PXGENAPP', 'AVDELTOT', 'CLOCKNUM', 'ADAS_Q5', 'TRABERROM', 'e_visspat_pt', 'moca_serial7']\n",
      "7 tentative attributes remains: ['e_lang_pt', 'nbspan_forward', 'ADAS_Q11', 'CATVEGESC', 'CATANIMSC', 'faq7', 'e_plan_pt']\n"
     ]
    },
    {
     "name": "stderr",
     "output_type": "stream",
     "text": [
      "\n"
     ]
    }
   ],
   "source": [
    "bshap.fit(X, y)"
   ]
  },
  {
   "cell_type": "code",
   "execution_count": 6,
   "metadata": {
    "Collapsed": "false"
   },
   "outputs": [
    {
     "data": {
      "image/png": "[encoded data removed]",
      "text/plain": [
       "<Figure size 864x576 with 1 Axes>"
      ]
     },
     "metadata": {
      "needs_background": "light"
     },
     "output_type": "display_data"
    }
   ],
   "source": [
    "bshap.plot(which_features='accepted')"
   ]
  },
  {
   "cell_type": "code",
   "execution_count": 7,
   "metadata": {
    "Collapsed": "false"
   },
   "outputs": [
    {
     "data": {
      "image/png": "[encoded data removed]",
      "text/plain": [
       "<Figure size 864x576 with 1 Axes>"
      ]
     },
     "metadata": {
      "needs_background": "light"
     },
     "output_type": "display_data"
    }
   ],
   "source": [
    "bshap.plot(which_features='tentative')"
   ]
  },
  {
   "cell_type": "markdown",
   "metadata": {
    "Collapsed": "false"
   },
   "source": [
    "## Boruta FS"
   ]
  },
  {
   "cell_type": "code",
   "execution_count": 7,
   "metadata": {
    "Collapsed": "false",
    "scrolled": true
   },
   "outputs": [
    {
     "name": "stdout",
     "output_type": "stream",
     "text": [
      "['ADAS_Q1', 'ADAS_Q7', 'ADAS_Q4', 'LDELTOTAL', 'tmab_time', 'faq2', 'faq3', 'e_memory_pt', 'e_memory_cg', 'e_divatt_cg']\n",
      "['ADAS_Q8', 'CATANIMSC']\n"
     ]
    }
   ],
   "source": [
    "from boruta import BorutaPy\n",
    "\n",
    "\n",
    "bp = BorutaPy(rf, n_estimators='auto', random_state=33433, verbose=0)\n",
    "bp.fit(X.values, y)\n",
    "\n",
    "features_ = list(np.array(features)[bp.support_])\n",
    "features_weak = list(np.array(features)[bp.support_weak_])\n",
    "\n",
    "print(features_)\n",
    "print(features_weak)"
   ]
  },
  {
   "cell_type": "code",
   "execution_count": 8,
   "metadata": {
    "Collapsed": "false",
    "scrolled": true
   },
   "outputs": [
    {
     "name": "stdout",
     "output_type": "stream",
     "text": [
      "['ADAS_Q1', 'ADAS_Q7', 'ADAS_Q8', 'nbspan_forward', 'ADAS_Q4', 'LDELTOTAL', 'AVDEL30MIN', 'faq9', 'tmab_time', 'ADAS_Q11', 'CATANIMSC', 'CATVEGESC', 'faq2', 'faq3', 'faq4', 'faq10', 'e_memory_pt', 'e_lang_pt', 'e_plan_pt', 'e_memory_cg', 'e_lang_cg', 'e_divatt_cg']\n",
      "['MMCITY']\n"
     ]
    }
   ],
   "source": [
    "from boruta import BorutaPy\n",
    "\n",
    "bp = BorutaPy(rf, n_estimators='auto', random_state=33433, verbose=0, perc=85)\n",
    "bp.fit(X.values, y)\n",
    "\n",
    "features_ = list(np.array(features)[bp.support_])\n",
    "features_weak = list(np.array(features)[bp.support_weak_])\n",
    "\n",
    "print(features_)\n",
    "print(features_weak)"
   ]
  },
  {
   "cell_type": "code",
   "execution_count": 9,
   "metadata": {
    "Collapsed": "false",
    "scrolled": true
   },
   "outputs": [
    {
     "name": "stdout",
     "output_type": "stream",
     "text": [
      "['ADAS_Q1', 'ADAS_Q7', 'ADAS_Q8', 'MMDATE', 'nbspan_forward', 'faq7', 'moca_recall', 'ADAS_Q4', 'MMTREEDL', 'LDELTOTAL', 'AVRECALL', 'AVDEL30MIN', 'AVDELTOT', 'faq9', 'tmab_time', 'TRABERRCOM', 'TRABERROM', 'moca_repeat', 'ADAS_Q11', 'CATANIMSC', 'CATVEGESC', 'ADAS_Q13', 'nbspan_backward', 'faq2', 'faq3', 'faq4', 'faq6', 'faq10', 'e_memory_pt', 'e_lang_pt', 'e_plan_pt', 'e_divatt_pt', 'e_memory_cg', 'e_lang_cg', 'e_organ_cg', 'e_divatt_cg']\n",
      "['MMCITY']\n"
     ]
    }
   ],
   "source": [
    "from boruta import BorutaPy\n",
    "\n",
    "bp = BorutaPy(rf, n_estimators='auto', random_state=33433, verbose=0, perc=70)\n",
    "bp.fit(X.values, y)\n",
    "\n",
    "features_ = list(np.array(features)[bp.support_])\n",
    "features_weak = list(np.array(features)[bp.support_weak_])\n",
    "\n",
    "print(features_)\n",
    "print(features_weak)"
   ]
  },
  {
   "cell_type": "markdown",
   "metadata": {
    "Collapsed": "false"
   },
   "source": [
    "## RFE"
   ]
  },
  {
   "cell_type": "code",
   "execution_count": 10,
   "metadata": {
    "Collapsed": "false"
   },
   "outputs": [
    {
     "name": "stdout",
     "output_type": "stream",
     "text": [
      "Fitting estimator with 107 features.\n",
      "Fitting estimator with 106 features.\n",
      "Fitting estimator with 105 features.\n",
      "Fitting estimator with 104 features.\n",
      "Fitting estimator with 103 features.\n",
      "Fitting estimator with 102 features.\n",
      "Fitting estimator with 101 features.\n",
      "Fitting estimator with 100 features.\n",
      "Fitting estimator with 99 features.\n",
      "Fitting estimator with 98 features.\n",
      "Fitting estimator with 97 features.\n",
      "Fitting estimator with 96 features.\n",
      "Fitting estimator with 95 features.\n",
      "Fitting estimator with 94 features.\n",
      "Fitting estimator with 93 features.\n",
      "Fitting estimator with 92 features.\n",
      "Fitting estimator with 91 features.\n",
      "Fitting estimator with 90 features.\n",
      "Fitting estimator with 89 features.\n",
      "Fitting estimator with 88 features.\n",
      "Fitting estimator with 87 features.\n",
      "Fitting estimator with 86 features.\n",
      "Fitting estimator with 85 features.\n",
      "Fitting estimator with 84 features.\n",
      "Fitting estimator with 83 features.\n",
      "Fitting estimator with 82 features.\n",
      "Fitting estimator with 81 features.\n",
      "Fitting estimator with 80 features.\n",
      "Fitting estimator with 79 features.\n",
      "Fitting estimator with 78 features.\n",
      "Fitting estimator with 77 features.\n",
      "Fitting estimator with 76 features.\n",
      "Fitting estimator with 75 features.\n",
      "Fitting estimator with 74 features.\n",
      "Fitting estimator with 73 features.\n",
      "Fitting estimator with 72 features.\n",
      "Fitting estimator with 71 features.\n",
      "Fitting estimator with 70 features.\n",
      "Fitting estimator with 69 features.\n",
      "Fitting estimator with 68 features.\n",
      "Fitting estimator with 67 features.\n",
      "Fitting estimator with 66 features.\n",
      "Fitting estimator with 65 features.\n",
      "Fitting estimator with 64 features.\n",
      "Fitting estimator with 63 features.\n",
      "Fitting estimator with 62 features.\n",
      "Fitting estimator with 61 features.\n",
      "Fitting estimator with 60 features.\n",
      "Fitting estimator with 59 features.\n",
      "Fitting estimator with 58 features.\n",
      "Fitting estimator with 57 features.\n",
      "Fitting estimator with 56 features.\n",
      "Fitting estimator with 55 features.\n",
      "Fitting estimator with 54 features.\n",
      "Fitting estimator with 53 features.\n",
      "Fitting estimator with 52 features.\n",
      "Fitting estimator with 51 features.\n",
      "Fitting estimator with 50 features.\n",
      "Fitting estimator with 49 features.\n",
      "Fitting estimator with 48 features.\n",
      "Fitting estimator with 47 features.\n",
      "Fitting estimator with 46 features.\n",
      "Fitting estimator with 45 features.\n",
      "Fitting estimator with 44 features.\n",
      "Fitting estimator with 43 features.\n",
      "Fitting estimator with 42 features.\n",
      "Fitting estimator with 41 features.\n",
      "Fitting estimator with 40 features.\n",
      "Fitting estimator with 39 features.\n",
      "Fitting estimator with 38 features.\n",
      "Fitting estimator with 37 features.\n",
      "Fitting estimator with 36 features.\n",
      "Fitting estimator with 35 features.\n",
      "Fitting estimator with 34 features.\n",
      "Fitting estimator with 33 features.\n",
      "Fitting estimator with 32 features.\n",
      "Fitting estimator with 31 features.\n",
      "Fitting estimator with 30 features.\n",
      "Fitting estimator with 29 features.\n",
      "Fitting estimator with 28 features.\n",
      "Fitting estimator with 27 features.\n",
      "Fitting estimator with 26 features.\n",
      "Fitting estimator with 25 features.\n",
      "Fitting estimator with 24 features.\n",
      "Fitting estimator with 23 features.\n",
      "Fitting estimator with 22 features.\n",
      "Fitting estimator with 21 features.\n",
      "Fitting estimator with 20 features.\n",
      "Fitting estimator with 19 features.\n",
      "Fitting estimator with 18 features.\n",
      "Fitting estimator with 17 features.\n",
      "Fitting estimator with 16 features.\n",
      "['ADAS_Q1', 'ADAS_Q7', 'ADAS_Q8', 'ADAS_Q4', 'LDELTOTAL', 'AVDEL30MIN', 'AVDELTOT', 'tmab_time', 'CATANIMSC', 'faq2', 'faq3', 'faq10', 'e_memory_pt', 'e_memory_cg', 'e_divatt_cg']\n"
     ]
    }
   ],
   "source": [
    "from sklearn.feature_selection import RFE\n",
    "\n",
    "selector = RFE(rf, n_features_to_select=15, step=1, verbose=1)\n",
    "selector = selector.fit(X, y)\n",
    "features_ = list(np.array(features)[selector.support_])\n",
    "print(features_)"
   ]
  },
  {
   "cell_type": "code",
   "execution_count": null,
   "metadata": {
    "Collapsed": "false"
   },
   "outputs": [],
   "source": []
  }
 ],
 "metadata": {
  "kernelspec": {
   "display_name": "Python 3",
   "language": "python",
   "name": "python3"
  },
  "language_info": {
   "codemirror_mode": {
    "name": "ipython",
    "version": 3
   },
   "file_extension": ".py",
   "mimetype": "text/x-python",
   "name": "python",
   "nbconvert_exporter": "python",
   "pygments_lexer": "ipython3",
   "version": "3.7.3"
  }
 },
 "nbformat": 4,
 "nbformat_minor": 4
}
